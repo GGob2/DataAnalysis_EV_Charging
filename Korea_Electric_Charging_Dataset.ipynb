{
 "cells": [
  {
   "attachments": {},
   "cell_type": "markdown",
   "metadata": {},
   "source": [
    "## 한국전력공사 전기차 충전 데이터셋 이용"
   ]
  },
  {
   "cell_type": "code",
   "execution_count": 2,
   "metadata": {},
   "outputs": [
    {
     "name": "stderr",
     "output_type": "stream",
     "text": [
      "C:\\Users\\mj\\AppData\\Local\\Temp\\ipykernel_14144\\3475480627.py:2: DtypeWarning: Columns (4) have mixed types. Specify dtype option on import or set low_memory=False.\n",
      "  df = pd.read_csv(r'D:\\charging_data\\korea_electric_charging_data.csv', encoding='cp949')\n"
     ]
    },
    {
     "name": "stdout",
     "output_type": "stream",
     "text": [
      "<class 'pandas.core.frame.DataFrame'>\n",
      "RangeIndex: 1048575 entries, 0 to 1048574\n",
      "Data columns (total 14 columns):\n",
      " #   Column  Non-Null Count    Dtype  \n",
      "---  ------  --------------    -----  \n",
      " 0   본부      1048575 non-null  object \n",
      " 1   사업소     1048575 non-null  object \n",
      " 2   충전소명    1048575 non-null  object \n",
      " 3   충전기     1048437 non-null  object \n",
      " 4   충전기ID   1048575 non-null  object \n",
      " 5   주소      1048235 non-null  object \n",
      " 6   충전기구분   1048575 non-null  object \n",
      " 7   충전용량    992853 non-null   float64\n",
      " 8   충전량     1048575 non-null  float64\n",
      " 9   충전시간    1048575 non-null  int64  \n",
      " 10  충전분     1048575 non-null  int64  \n",
      " 11  충전종료일자  1048575 non-null  object \n",
      " 12  충전시작시각  1048575 non-null  object \n",
      " 13  충전종료시각  1048575 non-null  object \n",
      "dtypes: float64(2), int64(2), object(10)\n",
      "memory usage: 112.0+ MB\n",
      "None\n"
     ]
    }
   ],
   "source": [
    "import pandas as pd\n",
    "df = pd.read_csv(r'D:\\charging_data\\korea_electric_charging_data.csv', encoding='cp949')\n",
    "print(df.info())"
   ]
  },
  {
   "attachments": {},
   "cell_type": "markdown",
   "metadata": {},
   "source": [
    "#### 필요없는 열 삭제하기"
   ]
  },
  {
   "cell_type": "code",
   "execution_count": 6,
   "metadata": {},
   "outputs": [
    {
     "data": {
      "text/plain": [
       "충전기구분\n",
       "급속    631047\n",
       "Name: count, dtype: int64"
      ]
     },
     "execution_count": 6,
     "metadata": {},
     "output_type": "execute_result"
    }
   ],
   "source": [
    "df = df.drop('본부', axis=1)\n",
    "df = df.drop('사업소', axis=1)\n",
    "df = df.drop('충전기', axis=1)\n",
    "df = df.drop('주소', axis=1)\n",
    "df = df.drop('충전량', axis=1)"
   ]
  },
  {
   "attachments": {},
   "cell_type": "markdown",
   "metadata": {},
   "source": [
    "#### 급속 데이터만 추출하기"
   ]
  },
  {
   "cell_type": "code",
   "execution_count": 7,
   "metadata": {},
   "outputs": [
    {
     "data": {
      "text/plain": [
       "충전기구분\n",
       "급속    631047\n",
       "Name: count, dtype: int64"
      ]
     },
     "execution_count": 7,
     "metadata": {},
     "output_type": "execute_result"
    }
   ],
   "source": [
    "# 급속데이터만 분리\n",
    "df = df[df['충전기구분']==\"급속\"]\n",
    "\n",
    "# 충전소명을 기준으로 데이터 수 확인 \n",
    "df['충전기구분'].value_counts()"
   ]
  },
  {
   "attachments": {},
   "cell_type": "markdown",
   "metadata": {},
   "source": [
    "#### 충전일을 기반으로 날짜 구하기"
   ]
  },
  {
   "cell_type": "code",
   "execution_count": 13,
   "metadata": {},
   "outputs": [
    {
     "data": {
      "text/plain": [
       "Timedelta('88 days 00:00:00')"
      ]
     },
     "execution_count": 13,
     "metadata": {},
     "output_type": "execute_result"
    }
   ],
   "source": [
    "df['충전종료일자_v2'] = pd.to_datetime(df['충전종료일자'])\n",
    "\n",
    "# 88일 차이\n",
    "df['충전종료일자_v2'].max() - df['충전종료일자_v2'].min()\n"
   ]
  },
  {
   "attachments": {},
   "cell_type": "markdown",
   "metadata": {},
   "source": [
    "#### 충전 세션 수가 700회 이하인 충전기 제거 (88일동안 700회)"
   ]
  },
  {
   "cell_type": "code",
   "execution_count": 15,
   "metadata": {},
   "outputs": [
    {
     "data": {
      "text/plain": [
       "충전기ID\n",
       "9813     2671\n",
       "9812     2422\n",
       "9814     2285\n",
       "8847     2031\n",
       "8848     1954\n",
       "10900    1613\n",
       "8850     1494\n",
       "8849     1442\n",
       "10618    1313\n",
       "10418    1256\n",
       "10394    1229\n",
       "10419    1205\n",
       "8043     1160\n",
       "10420    1084\n",
       "10959    1079\n",
       "10955    1038\n",
       "628      1025\n",
       "631      1023\n",
       "10901    1021\n",
       "11        962\n",
       "10958     957\n",
       "629       948\n",
       "10417     943\n",
       "630       942\n",
       "Name: count, dtype: int64"
      ]
     },
     "execution_count": 15,
     "metadata": {},
     "output_type": "execute_result"
    }
   ],
   "source": [
    "# 이상치 데이터 삭제\n",
    "filter = df['충전기ID'].value_counts()\n",
    "\n",
    "# 10000보다 작은 loc 추출\n",
    "to_drop = filter[filter < 700].index\n",
    "\n",
    "# to_drop에 들어있지 않은 loc만 추출\n",
    "df = df[~df['충전기ID'].isin(to_drop)]\n",
    "\n",
    "df['충전기ID'].value_counts()"
   ]
  },
  {
   "attachments": {},
   "cell_type": "markdown",
   "metadata": {},
   "source": [
    "#### 충전 시간이 3시간 이상인 데이터 제거"
   ]
  },
  {
   "cell_type": "code",
   "execution_count": 19,
   "metadata": {},
   "outputs": [
    {
     "data": {
      "text/plain": [
       "충전시간\n",
       "0    28410\n",
       "1     4236\n",
       "2      427\n",
       "3       11\n",
       "Name: count, dtype: int64"
      ]
     },
     "execution_count": 19,
     "metadata": {},
     "output_type": "execute_result"
    }
   ],
   "source": [
    "# 충전 시간 (hour) 확인 후 이상치 제거\n",
    "filter = df['충전시간'].value_counts()\n",
    "\n",
    "to_drop = filter[filter <= 3].index\n",
    "df = df[~df['충전시간'].isin(to_drop)]\n",
    "\n",
    "df['충전시간'].value_counts()"
   ]
  },
  {
   "attachments": {},
   "cell_type": "markdown",
   "metadata": {},
   "source": [
    "#### 충전 분이 5분 이하인 데이터 제거"
   ]
  },
  {
   "cell_type": "code",
   "execution_count": 21,
   "metadata": {},
   "outputs": [
    {
     "data": {
      "text/plain": [
       "충전분\n",
       "36    997\n",
       "38    972\n",
       "39    968\n",
       "37    966\n",
       "40    906\n",
       "35    884\n",
       "34    867\n",
       "33    819\n",
       "32    789\n",
       "41    757\n",
       "42    704\n",
       "30    686\n",
       "31    657\n",
       "20    655\n",
       "29    650\n",
       "28    646\n",
       "21    641\n",
       "19    639\n",
       "43    638\n",
       "18    631\n",
       "44    630\n",
       "23    625\n",
       "27    606\n",
       "22    605\n",
       "24    586\n",
       "25    584\n",
       "47    577\n",
       "26    576\n",
       "45    570\n",
       "17    558\n",
       "16    541\n",
       "46    533\n",
       "15    511\n",
       "48    507\n",
       "50    471\n",
       "49    456\n",
       "51    446\n",
       "14    440\n",
       "13    432\n",
       "52    427\n",
       "54    398\n",
       "12    393\n",
       "11    383\n",
       "10    379\n",
       "53    355\n",
       "9     354\n",
       "55    353\n",
       "56    328\n",
       "57    319\n",
       "8     311\n",
       "59    307\n",
       "5     298\n",
       "7     286\n",
       "58    277\n",
       "6     267\n",
       "Name: count, dtype: int64"
      ]
     },
     "execution_count": 21,
     "metadata": {},
     "output_type": "execute_result"
    }
   ],
   "source": [
    "\n",
    "df = df[df['충전분'] >= 5]\n",
    "\n",
    "df['충전분'].value_counts()"
   ]
  },
  {
   "cell_type": "code",
   "execution_count": 24,
   "metadata": {},
   "outputs": [
    {
     "data": {
      "text/plain": [
       "충전소명\n",
       "대평동 BRT전기버스 차고지    9417\n",
       "장등공용차고지            4277\n",
       "종합경기장              3652\n",
       "첨단공용차고지            3575\n",
       "광주시 전기버스 충전소       2996\n",
       "매월동 전기버스 충전소       2722\n",
       "월남공용차고지            1274\n",
       "회차지(월드컵경기장)        1195\n",
       "빛가람동 공용차고지         1145\n",
       "이천휴게소(하남방향)         908\n",
       "Name: count, dtype: int64"
      ]
     },
     "execution_count": 24,
     "metadata": {},
     "output_type": "execute_result"
    }
   ],
   "source": [
    "df['충전소명'].value_counts()"
   ]
  },
  {
   "cell_type": "code",
   "execution_count": null,
   "metadata": {},
   "outputs": [],
   "source": [
    "# 요일을 0-월 1-화 ... 6-일 로 맵핑 (datetime 객체 이용)\n",
    "\n",
    "df['date'] = pd.to_datetime(df['date'])\n",
    "\n",
    "df['date'] = df['date'].dt.weekday\n",
    "\n",
    "df['date'].value_counts()"
   ]
  },
  {
   "cell_type": "code",
   "execution_count": null,
   "metadata": {},
   "outputs": [],
   "source": [
    "# 주말인지 아닌지 여부 데이터 추가\n",
    "\n",
    "def is_weekend(day):\n",
    "    if day in [0,1,2,3,4]:\n",
    "        return 0\n",
    "    else:\n",
    "        return 1\n",
    "\n",
    "df['weekend'] = df['date'].apply(is_weekend)\n"
   ]
  },
  {
   "cell_type": "code",
   "execution_count": null,
   "metadata": {},
   "outputs": [],
   "source": [
    "# 하루를 10분 단위의 144개로 나누어, 충전 시작 시간에 맞게 할당\n",
    "def time_calculate(time):\n",
    "    hour, minute = time.split()[1].split(':')\n",
    "    total_minutes = int(hour) * 60 + int(minute)\n",
    "    time_interval = total_minutes // 10 \n",
    "    return time_interval\n",
    "\n",
    "df['time'] = df['start_time'].apply(time_calculate)"
   ]
  },
  {
   "cell_type": "code",
   "execution_count": null,
   "metadata": {},
   "outputs": [],
   "source": [
    "#새로운 df 구성\n",
    "\n",
    "\n",
    "charging_df = df.iloc[:, [8, 7, 4, 1]]\n",
    "charging_df = charging_df.drop_duplicates()\n",
    "\n",
    "# id 별 중복 값이 너무 많은 것인지 id당 3개월에 하루 1세션도 안됨.\n",
    "charging_df[\"id\"].value_counts()"
   ]
  }
 ],
 "metadata": {
  "kernelspec": {
   "display_name": "Python 3",
   "language": "python",
   "name": "python3"
  },
  "language_info": {
   "codemirror_mode": {
    "name": "ipython",
    "version": 3
   },
   "file_extension": ".py",
   "mimetype": "text/x-python",
   "name": "python",
   "nbconvert_exporter": "python",
   "pygments_lexer": "ipython3",
   "version": "3.11.1"
  },
  "orig_nbformat": 4
 },
 "nbformat": 4,
 "nbformat_minor": 2
}
