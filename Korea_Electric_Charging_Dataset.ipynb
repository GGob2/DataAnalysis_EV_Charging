{
 "cells": [
  {
   "attachments": {},
   "cell_type": "markdown",
   "metadata": {},
   "source": [
    "## 한국전력공사 전기차 충전 데이터셋 이용"
   ]
  },
  {
   "cell_type": "code",
   "execution_count": 1,
   "metadata": {},
   "outputs": [
    {
     "name": "stderr",
     "output_type": "stream",
     "text": [
      "C:\\Users\\mj\\AppData\\Local\\Temp\\ipykernel_16316\\3475480627.py:2: DtypeWarning: Columns (4) have mixed types. Specify dtype option on import or set low_memory=False.\n",
      "  df = pd.read_csv(r'D:\\charging_data\\korea_electric_charging_data.csv', encoding='cp949')\n"
     ]
    },
    {
     "name": "stdout",
     "output_type": "stream",
     "text": [
      "<class 'pandas.core.frame.DataFrame'>\n",
      "RangeIndex: 1048575 entries, 0 to 1048574\n",
      "Data columns (total 14 columns):\n",
      " #   Column  Non-Null Count    Dtype  \n",
      "---  ------  --------------    -----  \n",
      " 0   본부      1048575 non-null  object \n",
      " 1   사업소     1048575 non-null  object \n",
      " 2   충전소명    1048575 non-null  object \n",
      " 3   충전기     1048437 non-null  object \n",
      " 4   충전기ID   1048575 non-null  object \n",
      " 5   주소      1048235 non-null  object \n",
      " 6   충전기구분   1048575 non-null  object \n",
      " 7   충전용량    992853 non-null   float64\n",
      " 8   충전량     1048575 non-null  float64\n",
      " 9   충전시간    1048575 non-null  int64  \n",
      " 10  충전분     1048575 non-null  int64  \n",
      " 11  충전종료일자  1048575 non-null  object \n",
      " 12  충전시작시각  1048575 non-null  object \n",
      " 13  충전종료시각  1048575 non-null  object \n",
      "dtypes: float64(2), int64(2), object(10)\n",
      "memory usage: 112.0+ MB\n",
      "None\n"
     ]
    }
   ],
   "source": [
    "import pandas as pd\n",
    "df = pd.read_csv(r'D:\\charging_data\\korea_electric_charging_data.csv', encoding='cp949')\n",
    "print(df.info())"
   ]
  },
  {
   "attachments": {},
   "cell_type": "markdown",
   "metadata": {},
   "source": [
    "#### 필요없는 열 삭제하기"
   ]
  },
  {
   "cell_type": "code",
   "execution_count": 2,
   "metadata": {},
   "outputs": [],
   "source": [
    "df = df.drop('본부', axis=1)\n",
    "df = df.drop('사업소', axis=1)\n",
    "df = df.drop('충전기', axis=1)\n",
    "df = df.drop('주소', axis=1)\n",
    "df = df.drop('충전량', axis=1)"
   ]
  },
  {
   "attachments": {},
   "cell_type": "markdown",
   "metadata": {},
   "source": [
    "#### 급속 데이터만 추출하기"
   ]
  },
  {
   "cell_type": "code",
   "execution_count": 3,
   "metadata": {},
   "outputs": [
    {
     "data": {
      "text/plain": [
       "충전기구분\n",
       "급속    631047\n",
       "Name: count, dtype: int64"
      ]
     },
     "execution_count": 3,
     "metadata": {},
     "output_type": "execute_result"
    }
   ],
   "source": [
    "# 급속데이터만 분리\n",
    "df = df[df['충전기구분']==\"급속\"]\n",
    "\n",
    "# 충전소명을 기준으로 데이터 수 확인 \n",
    "df['충전기구분'].value_counts()"
   ]
  },
  {
   "attachments": {},
   "cell_type": "markdown",
   "metadata": {},
   "source": [
    "#### 충전일을 기반으로 날짜 구하기"
   ]
  },
  {
   "cell_type": "code",
   "execution_count": 4,
   "metadata": {},
   "outputs": [
    {
     "data": {
      "text/plain": [
       "Timedelta('88 days 00:00:00')"
      ]
     },
     "execution_count": 4,
     "metadata": {},
     "output_type": "execute_result"
    }
   ],
   "source": [
    "df['충전종료일자_v2'] = pd.to_datetime(df['충전종료일자'])\n",
    "\n",
    "# 88일 차이\n",
    "df['충전종료일자_v2'].max() - df['충전종료일자_v2'].min()\n"
   ]
  },
  {
   "attachments": {},
   "cell_type": "markdown",
   "metadata": {},
   "source": [
    "#### 충전 세션 수가 700회 이하인 충전기 제거 (88일동안 700회)"
   ]
  },
  {
   "cell_type": "code",
   "execution_count": 5,
   "metadata": {},
   "outputs": [
    {
     "data": {
      "text/plain": [
       "충전기ID\n",
       "9813     2671\n",
       "9812     2422\n",
       "9814     2285\n",
       "8847     2031\n",
       "8848     1954\n",
       "10900    1613\n",
       "8850     1494\n",
       "8849     1442\n",
       "10618    1313\n",
       "10418    1256\n",
       "10394    1229\n",
       "10419    1205\n",
       "8043     1160\n",
       "10420    1084\n",
       "10959    1079\n",
       "10955    1038\n",
       "628      1025\n",
       "631      1023\n",
       "10901    1021\n",
       "11        962\n",
       "10958     957\n",
       "629       948\n",
       "10417     943\n",
       "630       942\n",
       "632       869\n",
       "6797      853\n",
       "5927      838\n",
       "10392     835\n",
       "10393     833\n",
       "8135      830\n",
       "8042      793\n",
       "5867      787\n",
       "10957     784\n",
       "6756      775\n",
       "829       765\n",
       "10614     764\n",
       "1221      762\n",
       "1496      756\n",
       "828       745\n",
       "1237      737\n",
       "611       731\n",
       "645       726\n",
       "8777      720\n",
       "6086      716\n",
       "1497      709\n",
       "10619     709\n",
       "1173      709\n",
       "Name: count, dtype: int64"
      ]
     },
     "execution_count": 5,
     "metadata": {},
     "output_type": "execute_result"
    }
   ],
   "source": [
    "# 이상치 데이터 삭제\n",
    "filter = df['충전기ID'].value_counts()\n",
    "\n",
    "# 10000보다 작은 loc 추출\n",
    "to_drop = filter[filter < 700].index\n",
    "\n",
    "# to_drop에 들어있지 않은 loc만 추출\n",
    "df = df[~df['충전기ID'].isin(to_drop)]\n",
    "\n",
    "df['충전기ID'].value_counts()"
   ]
  },
  {
   "attachments": {},
   "cell_type": "markdown",
   "metadata": {},
   "source": [
    "#### 충전 시간이 3시간 이상인 데이터 제거"
   ]
  },
  {
   "cell_type": "code",
   "execution_count": 6,
   "metadata": {},
   "outputs": [
    {
     "data": {
      "text/plain": [
       "충전시간\n",
       "0     40934\n",
       "1      8903\n",
       "2       972\n",
       "3        18\n",
       "13        4\n",
       "Name: count, dtype: int64"
      ]
     },
     "execution_count": 6,
     "metadata": {},
     "output_type": "execute_result"
    }
   ],
   "source": [
    "# 충전 시간 (hour) 확인 후 이상치 제거\n",
    "filter = df['충전시간'].value_counts()\n",
    "\n",
    "to_drop = filter[filter <= 3].index\n",
    "df = df[~df['충전시간'].isin(to_drop)]\n",
    "\n",
    "df['충전시간'].value_counts()"
   ]
  },
  {
   "attachments": {},
   "cell_type": "markdown",
   "metadata": {},
   "source": [
    "#### 충전 분이 5분 이하인 데이터 제거"
   ]
  },
  {
   "cell_type": "code",
   "execution_count": 7,
   "metadata": {},
   "outputs": [
    {
     "data": {
      "text/plain": [
       "충전분\n",
       "36    1367\n",
       "38    1323\n",
       "37    1312\n",
       "39    1289\n",
       "40    1241\n",
       "35    1239\n",
       "34    1209\n",
       "32    1166\n",
       "33    1159\n",
       "30    1075\n",
       "41    1073\n",
       "31    1065\n",
       "29    1037\n",
       "42    1014\n",
       "28     999\n",
       "23     982\n",
       "20     979\n",
       "43     971\n",
       "24     958\n",
       "25     956\n",
       "21     949\n",
       "44     942\n",
       "26     938\n",
       "19     937\n",
       "22     931\n",
       "27     928\n",
       "18     920\n",
       "47     886\n",
       "48     846\n",
       "16     839\n",
       "46     830\n",
       "17     825\n",
       "45     817\n",
       "15     804\n",
       "50     760\n",
       "49     760\n",
       "52     724\n",
       "51     707\n",
       "14     693\n",
       "13     667\n",
       "12     652\n",
       "10     642\n",
       "11     628\n",
       "9      622\n",
       "54     616\n",
       "53     595\n",
       "55     577\n",
       "56     560\n",
       "57     547\n",
       "8      541\n",
       "59     530\n",
       "7      504\n",
       "5      497\n",
       "6      491\n",
       "58     489\n",
       "Name: count, dtype: int64"
      ]
     },
     "execution_count": 7,
     "metadata": {},
     "output_type": "execute_result"
    }
   ],
   "source": [
    "\n",
    "df = df[df['충전분'] >= 5]\n",
    "\n",
    "df['충전분'].value_counts()"
   ]
  },
  {
   "cell_type": "code",
   "execution_count": 8,
   "metadata": {},
   "outputs": [
    {
     "data": {
      "text/plain": [
       "충전소명\n",
       "대평동 BRT전기버스 차고지    9417\n",
       "종합경기장              4474\n",
       "장등공용차고지            4277\n",
       "광주시 전기버스 충전소       3765\n",
       "첨단공용차고지            3575\n",
       "회차지(월드컵경기장)        2774\n",
       "매월동 전기버스 충전소       2722\n",
       "월남공용차고지            1948\n",
       "빛가람동 공용차고지         1934\n",
       "뚝도충전소              1351\n",
       "대전광역시청 부설주차장       1340\n",
       "이천휴게소(하남방향)         908\n",
       "을숙도 공영주차장           770\n",
       "계양구청                757\n",
       "인천업사이클 에코센터         752\n",
       "도산버스차고지             737\n",
       "부산대북측               719\n",
       "강남구청 공영주차장          715\n",
       "하나로마트 진접점           696\n",
       "개인택시조합              678\n",
       "상암월드컵경기장            674\n",
       "도봉구청                664\n",
       "가락2동 주민센터           661\n",
       "LH서울지사              653\n",
       "만덕2동 주민센터           647\n",
       "Name: count, dtype: int64"
      ]
     },
     "execution_count": 8,
     "metadata": {},
     "output_type": "execute_result"
    }
   ],
   "source": [
    "df['충전소명'].value_counts()"
   ]
  },
  {
   "cell_type": "code",
   "execution_count": 9,
   "metadata": {},
   "outputs": [
    {
     "ename": "KeyError",
     "evalue": "'date'",
     "output_type": "error",
     "traceback": [
      "\u001b[1;31m---------------------------------------------------------------------------\u001b[0m",
      "\u001b[1;31mKeyError\u001b[0m                                  Traceback (most recent call last)",
      "File \u001b[1;32md:\\python\\Lib\\site-packages\\pandas\\core\\indexes\\base.py:3652\u001b[0m, in \u001b[0;36mIndex.get_loc\u001b[1;34m(self, key)\u001b[0m\n\u001b[0;32m   3651\u001b[0m \u001b[39mtry\u001b[39;00m:\n\u001b[1;32m-> 3652\u001b[0m     \u001b[39mreturn\u001b[39;00m \u001b[39mself\u001b[39;49m\u001b[39m.\u001b[39;49m_engine\u001b[39m.\u001b[39;49mget_loc(casted_key)\n\u001b[0;32m   3653\u001b[0m \u001b[39mexcept\u001b[39;00m \u001b[39mKeyError\u001b[39;00m \u001b[39mas\u001b[39;00m err:\n",
      "File \u001b[1;32md:\\python\\Lib\\site-packages\\pandas\\_libs\\index.pyx:147\u001b[0m, in \u001b[0;36mpandas._libs.index.IndexEngine.get_loc\u001b[1;34m()\u001b[0m\n",
      "File \u001b[1;32md:\\python\\Lib\\site-packages\\pandas\\_libs\\index.pyx:176\u001b[0m, in \u001b[0;36mpandas._libs.index.IndexEngine.get_loc\u001b[1;34m()\u001b[0m\n",
      "File \u001b[1;32mpandas\\_libs\\hashtable_class_helper.pxi:7080\u001b[0m, in \u001b[0;36mpandas._libs.hashtable.PyObjectHashTable.get_item\u001b[1;34m()\u001b[0m\n",
      "File \u001b[1;32mpandas\\_libs\\hashtable_class_helper.pxi:7088\u001b[0m, in \u001b[0;36mpandas._libs.hashtable.PyObjectHashTable.get_item\u001b[1;34m()\u001b[0m\n",
      "\u001b[1;31mKeyError\u001b[0m: 'date'",
      "\nThe above exception was the direct cause of the following exception:\n",
      "\u001b[1;31mKeyError\u001b[0m                                  Traceback (most recent call last)",
      "Cell \u001b[1;32mIn[9], line 3\u001b[0m\n\u001b[0;32m      1\u001b[0m \u001b[39m# 요일을 0-월 1-화 ... 6-일 로 맵핑 (datetime 객체 이용)\u001b[39;00m\n\u001b[1;32m----> 3\u001b[0m df[\u001b[39m'\u001b[39m\u001b[39mdate\u001b[39m\u001b[39m'\u001b[39m] \u001b[39m=\u001b[39m pd\u001b[39m.\u001b[39mto_datetime(df[\u001b[39m'\u001b[39;49m\u001b[39mdate\u001b[39;49m\u001b[39m'\u001b[39;49m])\n\u001b[0;32m      5\u001b[0m df[\u001b[39m'\u001b[39m\u001b[39mdate\u001b[39m\u001b[39m'\u001b[39m] \u001b[39m=\u001b[39m df[\u001b[39m'\u001b[39m\u001b[39mdate\u001b[39m\u001b[39m'\u001b[39m]\u001b[39m.\u001b[39mdt\u001b[39m.\u001b[39mweekday\n\u001b[0;32m      7\u001b[0m df[\u001b[39m'\u001b[39m\u001b[39mdate\u001b[39m\u001b[39m'\u001b[39m]\u001b[39m.\u001b[39mvalue_counts()\n",
      "File \u001b[1;32md:\\python\\Lib\\site-packages\\pandas\\core\\frame.py:3760\u001b[0m, in \u001b[0;36mDataFrame.__getitem__\u001b[1;34m(self, key)\u001b[0m\n\u001b[0;32m   3758\u001b[0m \u001b[39mif\u001b[39;00m \u001b[39mself\u001b[39m\u001b[39m.\u001b[39mcolumns\u001b[39m.\u001b[39mnlevels \u001b[39m>\u001b[39m \u001b[39m1\u001b[39m:\n\u001b[0;32m   3759\u001b[0m     \u001b[39mreturn\u001b[39;00m \u001b[39mself\u001b[39m\u001b[39m.\u001b[39m_getitem_multilevel(key)\n\u001b[1;32m-> 3760\u001b[0m indexer \u001b[39m=\u001b[39m \u001b[39mself\u001b[39;49m\u001b[39m.\u001b[39;49mcolumns\u001b[39m.\u001b[39;49mget_loc(key)\n\u001b[0;32m   3761\u001b[0m \u001b[39mif\u001b[39;00m is_integer(indexer):\n\u001b[0;32m   3762\u001b[0m     indexer \u001b[39m=\u001b[39m [indexer]\n",
      "File \u001b[1;32md:\\python\\Lib\\site-packages\\pandas\\core\\indexes\\base.py:3654\u001b[0m, in \u001b[0;36mIndex.get_loc\u001b[1;34m(self, key)\u001b[0m\n\u001b[0;32m   3652\u001b[0m     \u001b[39mreturn\u001b[39;00m \u001b[39mself\u001b[39m\u001b[39m.\u001b[39m_engine\u001b[39m.\u001b[39mget_loc(casted_key)\n\u001b[0;32m   3653\u001b[0m \u001b[39mexcept\u001b[39;00m \u001b[39mKeyError\u001b[39;00m \u001b[39mas\u001b[39;00m err:\n\u001b[1;32m-> 3654\u001b[0m     \u001b[39mraise\u001b[39;00m \u001b[39mKeyError\u001b[39;00m(key) \u001b[39mfrom\u001b[39;00m \u001b[39merr\u001b[39;00m\n\u001b[0;32m   3655\u001b[0m \u001b[39mexcept\u001b[39;00m \u001b[39mTypeError\u001b[39;00m:\n\u001b[0;32m   3656\u001b[0m     \u001b[39m# If we have a listlike key, _check_indexing_error will raise\u001b[39;00m\n\u001b[0;32m   3657\u001b[0m     \u001b[39m#  InvalidIndexError. Otherwise we fall through and re-raise\u001b[39;00m\n\u001b[0;32m   3658\u001b[0m     \u001b[39m#  the TypeError.\u001b[39;00m\n\u001b[0;32m   3659\u001b[0m     \u001b[39mself\u001b[39m\u001b[39m.\u001b[39m_check_indexing_error(key)\n",
      "\u001b[1;31mKeyError\u001b[0m: 'date'"
     ]
    }
   ],
   "source": [
    "# 요일을 0-월 1-화 ... 6-일 로 맵핑 (datetime 객체 이용)\n",
    "\n",
    "df['date'] = pd.to_datetime(df['date'])\n",
    "\n",
    "df['date'] = df['date'].dt.weekday\n",
    "\n",
    "df['date'].value_counts()"
   ]
  },
  {
   "cell_type": "code",
   "execution_count": null,
   "metadata": {},
   "outputs": [],
   "source": [
    "# 주말인지 아닌지 여부 데이터 추가\n",
    "\n",
    "def is_weekend(day):\n",
    "    if day in [0,1,2,3,4]:\n",
    "        return 0\n",
    "    else:\n",
    "        return 1\n",
    "\n",
    "df['weekend'] = df['date'].apply(is_weekend)\n"
   ]
  },
  {
   "cell_type": "code",
   "execution_count": null,
   "metadata": {},
   "outputs": [],
   "source": [
    "# 하루를 10분 단위의 144개로 나누어, 충전 시작 시간에 맞게 할당\n",
    "def time_calculate(time):\n",
    "    hour, minute = time.split()[1].split(':')\n",
    "    total_minutes = int(hour) * 60 + int(minute)\n",
    "    time_interval = total_minutes // 10 \n",
    "    return time_interval\n",
    "\n",
    "df['time'] = df['start_time'].apply(time_calculate)"
   ]
  },
  {
   "cell_type": "code",
   "execution_count": null,
   "metadata": {},
   "outputs": [],
   "source": [
    "#새로운 df 구성\n",
    "\n",
    "\n",
    "charging_df = df.iloc[:, [8, 7, 4, 1]]\n",
    "charging_df = charging_df.drop_duplicates()\n",
    "\n",
    "# id 별 중복 값이 너무 많은 것인지 id당 3개월에 하루 1세션도 안됨.\n",
    "charging_df[\"id\"].value_counts()"
   ]
  }
 ],
 "metadata": {
  "kernelspec": {
   "display_name": "Python 3",
   "language": "python",
   "name": "python3"
  },
  "language_info": {
   "codemirror_mode": {
    "name": "ipython",
    "version": 3
   },
   "file_extension": ".py",
   "mimetype": "text/x-python",
   "name": "python",
   "nbconvert_exporter": "python",
   "pygments_lexer": "ipython3",
   "version": "3.11.1"
  },
  "orig_nbformat": 4
 },
 "nbformat": 4,
 "nbformat_minor": 2
}
