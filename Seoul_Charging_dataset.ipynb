{
 "cells": [
  {
   "attachments": {},
   "cell_type": "markdown",
   "metadata": {},
   "source": [
    "# 서울시 전기차 충전 데이터 이용"
   ]
  },
  {
   "cell_type": "code",
   "execution_count": 2,
   "metadata": {},
   "outputs": [
    {
     "name": "stdout",
     "output_type": "stream",
     "text": [
      "<class 'pandas.core.frame.DataFrame'>\n",
      "RangeIndex: 10972 entries, 0 to 10971\n",
      "Data columns (total 6 columns):\n",
      " #   Column    Non-Null Count  Dtype  \n",
      "---  ------    --------------  -----  \n",
      " 0   순번        10972 non-null  int64  \n",
      " 1   충전소명      10972 non-null  object \n",
      " 2   충전일       10972 non-null  object \n",
      " 3   충전시작시간    10972 non-null  object \n",
      " 4   충전종료시간    10972 non-null  object \n",
      " 5   충전량(kWh)  10972 non-null  float64\n",
      "dtypes: float64(1), int64(1), object(4)\n",
      "memory usage: 514.4+ KB\n",
      "None\n"
     ]
    }
   ],
   "source": [
    "import pandas as pd\n",
    "df = pd.read_csv(r'D:\\charging_data\\charging_data_modify.csv', encoding='cp949')\n",
    "print(df.info())"
   ]
  },
  {
   "cell_type": "code",
   "execution_count": 3,
   "metadata": {},
   "outputs": [
    {
     "data": {
      "text/plain": [
       "충전소명\n",
       "양재솔라스테이션        2783\n",
       "동작구청            1211\n",
       "양천구청             960\n",
       "홍제1동 공용주차장       688\n",
       "어린이대공원 후문주차장     651\n",
       "중랑구청             618\n",
       "성동구청             537\n",
       "남부초 공영주차장        476\n",
       "서대문구청 주차장        449\n",
       "서소문청사(지상 급속)     265\n",
       "망우제2 거주자주차장      265\n",
       "복정역 공영주차장        225\n",
       "송월동차고지(급속)       218\n",
       "송월동차고지(완속)       209\n",
       "마곡중앙광장공영주차장      209\n",
       "개화산역 공영주차장       183\n",
       "서울시 본관청사(완속)     173\n",
       "가산 공영주차장         153\n",
       "남산청사             153\n",
       "서소문청사(지하 급속)     138\n",
       "창동역 공영주차장        111\n",
       "서소문청사(후생동)        87\n",
       "서울시 본관청사(급속)      79\n",
       "서소문청사(완속)         62\n",
       "천호역 공영주차장         62\n",
       "중화1동 공영주차장         7\n",
       "Name: count, dtype: int64"
      ]
     },
     "execution_count": 3,
     "metadata": {},
     "output_type": "execute_result"
    }
   ],
   "source": [
    "# 쓸모없는 열 삭제\n",
    "df = df.drop('순번', axis=1)\n",
    "\n",
    "# 충전소명을 기준으로 데이터 수 확인 \n",
    "df['충전소명'].value_counts()"
   ]
  },
  {
   "cell_type": "code",
   "execution_count": 3,
   "metadata": {},
   "outputs": [
    {
     "data": {
      "text/plain": [
       "Timedelta('117 days 00:00:00')"
      ]
     },
     "execution_count": 3,
     "metadata": {},
     "output_type": "execute_result"
    }
   ],
   "source": [
    "df['충전일자'] = pd.to_datetime(df['충전일'])\n",
    "df['충전일자'].max() - df['충전일자'].min()\n"
   ]
  },
  {
   "cell_type": "code",
   "execution_count": null,
   "metadata": {},
   "outputs": [],
   "source": [
    "# 충전 세션 500개 이하 삭제\n",
    "filter = df['충전소명'].value_counts()\n",
    "\n",
    "# 10000보다 작은 loc 추출\n",
    "to_drop = filter[filter <= 500].index\n",
    "\n",
    "# to_drop에 들어있지 않은 loc만 추출\n",
    "df = df[~df['충전소명'].isin(to_drop)]\n",
    "\n",
    "# 환경부 충전 데이터 삭제 (지역 확인 어려움)\n",
    "df = df.drop(df[df['loc'] == '환경부'].index)\n",
    "\n",
    "df['loc'].value_counts()"
   ]
  },
  {
   "cell_type": "code",
   "execution_count": null,
   "metadata": {},
   "outputs": [],
   "source": [
    "# 충전 시간 (hour) 확인 후 이상치 제거\n",
    "df['charging_hour'].value_counts()"
   ]
  },
  {
   "cell_type": "code",
   "execution_count": null,
   "metadata": {},
   "outputs": [],
   "source": [
    "# 5시간 이상 충전한 데이터 삭제\n",
    "df = df[df['charging_hour'] <= 2]\n",
    "\n",
    "df['charging_hour'].value_counts()\n",
    "\n",
    "\n"
   ]
  },
  {
   "cell_type": "code",
   "execution_count": null,
   "metadata": {},
   "outputs": [],
   "source": [
    "df = df[df['charging_minute'] >= 5]\n",
    "\n",
    "df['charging_minute'].value_counts()"
   ]
  },
  {
   "cell_type": "code",
   "execution_count": null,
   "metadata": {},
   "outputs": [],
   "source": [
    "df['loc'].value_counts()"
   ]
  },
  {
   "cell_type": "code",
   "execution_count": null,
   "metadata": {},
   "outputs": [],
   "source": [
    "# 3개월 동안 900 번의 충전 세션이 없는 데이터 삭제 (이상치로 간주, 하루 약 3번 충전)\n",
    "\n",
    "counts = df['id'].value_counts()\n",
    "\n",
    "id_keep = counts[counts > 900].index\n",
    "\n",
    "df = df[df['id'].isin(id_keep)]\n",
    "\n",
    "df['id'].value_counts()\n",
    "\n"
   ]
  },
  {
   "cell_type": "code",
   "execution_count": null,
   "metadata": {},
   "outputs": [],
   "source": [
    "# 요일을 0-월 1-화 ... 6-일 로 맵핑 (datetime 객체 이용)\n",
    "\n",
    "df['date'] = pd.to_datetime(df['date'])\n",
    "\n",
    "df['date'] = df['date'].dt.weekday\n",
    "\n",
    "df['date'].value_counts()"
   ]
  },
  {
   "cell_type": "code",
   "execution_count": null,
   "metadata": {},
   "outputs": [],
   "source": [
    "# 주말인지 아닌지 여부 데이터 추가\n",
    "\n",
    "def is_weekend(day):\n",
    "    if day in [0,1,2,3,4]:\n",
    "        return 0\n",
    "    else:\n",
    "        return 1\n",
    "\n",
    "df['weekend'] = df['date'].apply(is_weekend)\n"
   ]
  },
  {
   "cell_type": "code",
   "execution_count": null,
   "metadata": {},
   "outputs": [],
   "source": [
    "# 하루를 10분 단위의 144개로 나누어, 충전 시작 시간에 맞게 할당\n",
    "def time_calculate(time):\n",
    "    hour, minute = time.split()[1].split(':')\n",
    "    total_minutes = int(hour) * 60 + int(minute)\n",
    "    time_interval = total_minutes // 10 \n",
    "    return time_interval\n",
    "\n",
    "df['time'] = df['start_time'].apply(time_calculate)"
   ]
  },
  {
   "cell_type": "code",
   "execution_count": null,
   "metadata": {},
   "outputs": [],
   "source": [
    "#새로운 df 구성\n",
    "\n",
    "\n",
    "charging_df = df.iloc[:, [8, 7, 4, 1]]\n",
    "charging_df = charging_df.drop_duplicates()\n",
    "\n",
    "# id 별 중복 값이 너무 많은 것인지 id당 3개월에 하루 1세션도 안됨.\n",
    "charging_df[\"id\"].value_counts()"
   ]
  }
 ],
 "metadata": {
  "kernelspec": {
   "display_name": "Python 3",
   "language": "python",
   "name": "python3"
  },
  "language_info": {
   "codemirror_mode": {
    "name": "ipython",
    "version": 3
   },
   "file_extension": ".py",
   "mimetype": "text/x-python",
   "name": "python",
   "nbconvert_exporter": "python",
   "pygments_lexer": "ipython3",
   "version": "3.11.1"
  },
  "orig_nbformat": 4
 },
 "nbformat": 4,
 "nbformat_minor": 2
}
