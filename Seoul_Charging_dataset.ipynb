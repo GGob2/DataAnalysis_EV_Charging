{
 "cells": [
  {
   "attachments": {},
   "cell_type": "markdown",
   "metadata": {},
   "source": [
    "# 서울시 전기차 충전 데이터 이용"
   ]
  },
  {
   "cell_type": "code",
   "execution_count": 9,
   "metadata": {},
   "outputs": [
    {
     "name": "stdout",
     "output_type": "stream",
     "text": [
      "<class 'pandas.core.frame.DataFrame'>\n",
      "RangeIndex: 10972 entries, 0 to 10971\n",
      "Data columns (total 6 columns):\n",
      " #   Column    Non-Null Count  Dtype  \n",
      "---  ------    --------------  -----  \n",
      " 0   순번        10972 non-null  int64  \n",
      " 1   충전소명      10972 non-null  object \n",
      " 2   충전일       10972 non-null  object \n",
      " 3   충전시작시간    10972 non-null  object \n",
      " 4   충전종료시간    10972 non-null  object \n",
      " 5   충전량(kWh)  10972 non-null  float64\n",
      "dtypes: float64(1), int64(1), object(4)\n",
      "memory usage: 514.4+ KB\n",
      "None\n"
     ]
    }
   ],
   "source": [
    "import pandas as pd\n",
    "df = pd.read_csv(r'D:\\charging_data\\charging_data_modify.csv', encoding='cp949')\n",
    "print(df.info())"
   ]
  },
  {
   "cell_type": "code",
   "execution_count": 10,
   "metadata": {},
   "outputs": [
    {
     "data": {
      "text/plain": [
       "충전소명\n",
       "양재솔라스테이션        2783\n",
       "동작구청            1211\n",
       "양천구청             960\n",
       "홍제1동 공용주차장       688\n",
       "어린이대공원 후문주차장     651\n",
       "중랑구청             618\n",
       "성동구청             537\n",
       "남부초 공영주차장        476\n",
       "서대문구청 주차장        449\n",
       "서소문청사(지상 급속)     265\n",
       "망우제2 거주자주차장      265\n",
       "복정역 공영주차장        225\n",
       "송월동차고지(급속)       218\n",
       "송월동차고지(완속)       209\n",
       "마곡중앙광장공영주차장      209\n",
       "개화산역 공영주차장       183\n",
       "서울시 본관청사(완속)     173\n",
       "가산 공영주차장         153\n",
       "남산청사             153\n",
       "서소문청사(지하 급속)     138\n",
       "창동역 공영주차장        111\n",
       "서소문청사(후생동)        87\n",
       "서울시 본관청사(급속)      79\n",
       "서소문청사(완속)         62\n",
       "천호역 공영주차장         62\n",
       "중화1동 공영주차장         7\n",
       "Name: count, dtype: int64"
      ]
     },
     "execution_count": 10,
     "metadata": {},
     "output_type": "execute_result"
    }
   ],
   "source": [
    "# 쓸모없는 열 삭제\n",
    "df = df.drop('순번', axis=1)\n",
    "df = df.drop('충전량', axis=1)\n",
    "\n",
    "\n",
    "# 충전소명을 기준으로 데이터 수 확인 \n",
    "df['충전소명'].value_counts()"
   ]
  },
  {
   "cell_type": "code",
   "execution_count": 27,
   "metadata": {},
   "outputs": [
    {
     "data": {
      "text/plain": [
       "Timestamp('2021-06-16 00:00:00')"
      ]
     },
     "execution_count": 27,
     "metadata": {},
     "output_type": "execute_result"
    }
   ],
   "source": [
    "df['충전일자'] = pd.to_datetime(df['충전일'])\n",
    "df['충전일자'].min() "
   ]
  },
  {
   "cell_type": "code",
   "execution_count": 11,
   "metadata": {},
   "outputs": [
    {
     "data": {
      "text/plain": [
       "0        27.0\n",
       "1        40.0\n",
       "2        15.0\n",
       "3        23.0\n",
       "4        40.0\n",
       "         ... \n",
       "10967    29.0\n",
       "10968    53.0\n",
       "10969    42.0\n",
       "10970    53.0\n",
       "10971    33.0\n",
       "Name: 충전시간, Length: 10972, dtype: float64"
      ]
     },
     "execution_count": 11,
     "metadata": {},
     "output_type": "execute_result"
    }
   ],
   "source": [
    "df['충전시작시간'] = pd.to_datetime(df['충전시작시간'])\n",
    "df['충전종료시간'] = pd.to_datetime(df['충전종료시간'])\n",
    "\n",
    "df['충전시간'] = (df['충전종료시간'] - df['충전시작시간']).dt.total_seconds() // 60\n",
    "df['충전시간']\n"
   ]
  },
  {
   "cell_type": "code",
   "execution_count": 12,
   "metadata": {},
   "outputs": [
    {
     "data": {
      "text/plain": [
       "충전소명\n",
       "양재솔라스테이션        2669\n",
       "동작구청            1192\n",
       "양천구청             938\n",
       "홍제1동 공용주차장       663\n",
       "어린이대공원 후문주차장     626\n",
       "중랑구청             593\n",
       "성동구청             527\n",
       "남부초 공영주차장        463\n",
       "서대문구청 주차장        423\n",
       "서소문청사(지상 급속)     256\n",
       "망우제2 거주자주차장      252\n",
       "송월동차고지(급속)       209\n",
       "복정역 공영주차장        207\n",
       "개화산역 공영주차장       175\n",
       "마곡중앙광장공영주차장      148\n",
       "가산 공영주차장         142\n",
       "남산청사             139\n",
       "서울시 본관청사(완속)     134\n",
       "서소문청사(지하 급속)     132\n",
       "송월동차고지(완속)       119\n",
       "창동역 공영주차장        104\n",
       "서울시 본관청사(급속)      70\n",
       "천호역 공영주차장         57\n",
       "서소문청사(완속)         51\n",
       "서소문청사(후생동)        33\n",
       "중화1동 공영주차장         4\n",
       "Name: count, dtype: int64"
      ]
     },
     "execution_count": 12,
     "metadata": {},
     "output_type": "execute_result"
    }
   ],
   "source": [
    "df = df[df['충전시간'] >= 5]\n",
    "df = df[df['충전시간'] <= 180]\n",
    "\n",
    "df['충전소명'].value_counts()"
   ]
  },
  {
   "cell_type": "code",
   "execution_count": 13,
   "metadata": {},
   "outputs": [
    {
     "data": {
      "text/plain": [
       "충전소명\n",
       "양재솔라스테이션        2669\n",
       "동작구청            1192\n",
       "양천구청             938\n",
       "홍제1동 공용주차장       663\n",
       "어린이대공원 후문주차장     626\n",
       "중랑구청             593\n",
       "성동구청             527\n",
       "Name: count, dtype: int64"
      ]
     },
     "execution_count": 13,
     "metadata": {},
     "output_type": "execute_result"
    }
   ],
   "source": [
    "# 충전 세션 500개 이하 삭제\n",
    "filter = df['충전소명'].value_counts()\n",
    "\n",
    "# 충전 세션이 500개 이하인 경우 삭제\n",
    "to_drop = filter[filter <= 500].index\n",
    "\n",
    "# to_drop에 들어있지 않은 loc만 추출\n",
    "df = df[~df['충전소명'].isin(to_drop)]\n",
    "\n",
    "df['충전소명'].value_counts()"
   ]
  },
  {
   "cell_type": "code",
   "execution_count": 7,
   "metadata": {},
   "outputs": [
    {
     "name": "stdout",
     "output_type": "stream",
     "text": [
      "<class 'pandas.core.frame.DataFrame'>\n",
      "Index: 7191 entries, 965 to 10971\n",
      "Data columns (total 6 columns):\n",
      " #   Column    Non-Null Count  Dtype         \n",
      "---  ------    --------------  -----         \n",
      " 0   충전소명      7191 non-null   object        \n",
      " 1   충전일       7191 non-null   object        \n",
      " 2   충전시작시간    7191 non-null   datetime64[ns]\n",
      " 3   충전종료시간    7191 non-null   datetime64[ns]\n",
      " 4   충전량(kWh)  7191 non-null   float64       \n",
      " 5   충전시간      7191 non-null   float64       \n",
      "dtypes: datetime64[ns](2), float64(2), object(2)\n",
      "memory usage: 393.3+ KB\n"
     ]
    }
   ],
   "source": [
    "df.info()"
   ]
  },
  {
   "cell_type": "code",
   "execution_count": 14,
   "metadata": {},
   "outputs": [
    {
     "data": {
      "text/plain": [
       "요일\n",
       "4    1192\n",
       "3    1067\n",
       "5    1053\n",
       "2    1013\n",
       "0    1002\n",
       "1     995\n",
       "6     886\n",
       "Name: count, dtype: int64"
      ]
     },
     "execution_count": 14,
     "metadata": {},
     "output_type": "execute_result"
    }
   ],
   "source": [
    "# 요일을 0-월 1-화 ... 6-일 로 맵핑 (datetime 객체 이용)\n",
    "\n",
    "df['요일'] = pd.to_datetime(df['충전시작시간'])\n",
    "\n",
    "df['요일'] = df['충전시작시간'].dt.weekday\n",
    "\n",
    "df['요일'].value_counts()"
   ]
  },
  {
   "cell_type": "code",
   "execution_count": 17,
   "metadata": {},
   "outputs": [
    {
     "data": {
      "text/plain": [
       "주말\n",
       "0    5269\n",
       "1    1939\n",
       "Name: count, dtype: int64"
      ]
     },
     "execution_count": 17,
     "metadata": {},
     "output_type": "execute_result"
    }
   ],
   "source": [
    "# 주말인지 아닌지 여부 데이터 추가\n",
    "\n",
    "def is_weekend(day):\n",
    "    if day in [0,1,2,3,4]: # 0: 월 6: 일\n",
    "        return 0\n",
    "    else:\n",
    "        return 1\n",
    "\n",
    "df['주말'] = df['요일'].apply(is_weekend)\n",
    "df['주말'].value_counts()\n"
   ]
  },
  {
   "cell_type": "code",
   "execution_count": 18,
   "metadata": {},
   "outputs": [
    {
     "name": "stdout",
     "output_type": "stream",
     "text": [
      "<class 'pandas.core.frame.DataFrame'>\n",
      "Index: 7208 entries, 965 to 10971\n",
      "Data columns (total 8 columns):\n",
      " #   Column    Non-Null Count  Dtype         \n",
      "---  ------    --------------  -----         \n",
      " 0   충전소명      7208 non-null   object        \n",
      " 1   충전일       7208 non-null   object        \n",
      " 2   충전시작시간    7208 non-null   datetime64[ns]\n",
      " 3   충전종료시간    7208 non-null   datetime64[ns]\n",
      " 4   충전량(kWh)  7208 non-null   float64       \n",
      " 5   충전시간      7208 non-null   float64       \n",
      " 6   요일        7208 non-null   int32         \n",
      " 7   주말        7208 non-null   int64         \n",
      "dtypes: datetime64[ns](2), float64(2), int32(1), int64(1), object(2)\n",
      "memory usage: 478.7+ KB\n"
     ]
    }
   ],
   "source": [
    "df.info()"
   ]
  },
  {
   "attachments": {},
   "cell_type": "markdown",
   "metadata": {},
   "source": [
    "새로운 데이터프레임 객체 생성"
   ]
  },
  {
   "cell_type": "code",
   "execution_count": 25,
   "metadata": {},
   "outputs": [
    {
     "data": {
      "text/plain": [
       "16843    139\n",
       "16844    140\n",
       "16845    141\n",
       "16846    142\n",
       "16847    143\n",
       "Name: time, dtype: int64"
      ]
     },
     "execution_count": 25,
     "metadata": {},
     "output_type": "execute_result"
    }
   ],
   "source": [
    "df_2 = pd.DataFrame()\n",
    "df_2['time'] = [i for i in range(144)] * 117\n",
    "df_2['time'].tail()"
   ]
  },
  {
   "cell_type": "code",
   "execution_count": 36,
   "metadata": {},
   "outputs": [
    {
     "data": {
      "text/html": [
       "<div>\n",
       "<style scoped>\n",
       "    .dataframe tbody tr th:only-of-type {\n",
       "        vertical-align: middle;\n",
       "    }\n",
       "\n",
       "    .dataframe tbody tr th {\n",
       "        vertical-align: top;\n",
       "    }\n",
       "\n",
       "    .dataframe thead th {\n",
       "        text-align: right;\n",
       "    }\n",
       "</style>\n",
       "<table border=\"1\" class=\"dataframe\">\n",
       "  <thead>\n",
       "    <tr style=\"text-align: right;\">\n",
       "      <th></th>\n",
       "      <th>time</th>\n",
       "      <th>weekend</th>\n",
       "      <th>dayofweek</th>\n",
       "    </tr>\n",
       "  </thead>\n",
       "  <tbody>\n",
       "    <tr>\n",
       "      <th>0</th>\n",
       "      <td>0</td>\n",
       "      <td>0</td>\n",
       "      <td>2</td>\n",
       "    </tr>\n",
       "    <tr>\n",
       "      <th>1</th>\n",
       "      <td>1</td>\n",
       "      <td>0</td>\n",
       "      <td>2</td>\n",
       "    </tr>\n",
       "    <tr>\n",
       "      <th>2</th>\n",
       "      <td>2</td>\n",
       "      <td>0</td>\n",
       "      <td>2</td>\n",
       "    </tr>\n",
       "    <tr>\n",
       "      <th>3</th>\n",
       "      <td>3</td>\n",
       "      <td>0</td>\n",
       "      <td>2</td>\n",
       "    </tr>\n",
       "    <tr>\n",
       "      <th>4</th>\n",
       "      <td>4</td>\n",
       "      <td>0</td>\n",
       "      <td>2</td>\n",
       "    </tr>\n",
       "    <tr>\n",
       "      <th>...</th>\n",
       "      <td>...</td>\n",
       "      <td>...</td>\n",
       "      <td>...</td>\n",
       "    </tr>\n",
       "    <tr>\n",
       "      <th>155</th>\n",
       "      <td>11</td>\n",
       "      <td>0</td>\n",
       "      <td>3</td>\n",
       "    </tr>\n",
       "    <tr>\n",
       "      <th>156</th>\n",
       "      <td>12</td>\n",
       "      <td>0</td>\n",
       "      <td>3</td>\n",
       "    </tr>\n",
       "    <tr>\n",
       "      <th>157</th>\n",
       "      <td>13</td>\n",
       "      <td>0</td>\n",
       "      <td>3</td>\n",
       "    </tr>\n",
       "    <tr>\n",
       "      <th>158</th>\n",
       "      <td>14</td>\n",
       "      <td>0</td>\n",
       "      <td>3</td>\n",
       "    </tr>\n",
       "    <tr>\n",
       "      <th>159</th>\n",
       "      <td>15</td>\n",
       "      <td>0</td>\n",
       "      <td>3</td>\n",
       "    </tr>\n",
       "  </tbody>\n",
       "</table>\n",
       "<p>160 rows × 3 columns</p>\n",
       "</div>"
      ],
      "text/plain": [
       "     time  weekend  dayofweek\n",
       "0       0        0          2\n",
       "1       1        0          2\n",
       "2       2        0          2\n",
       "3       3        0          2\n",
       "4       4        0          2\n",
       "..    ...      ...        ...\n",
       "155    11        0          3\n",
       "156    12        0          3\n",
       "157    13        0          3\n",
       "158    14        0          3\n",
       "159    15        0          3\n",
       "\n",
       "[160 rows x 3 columns]"
      ]
     },
     "execution_count": 36,
     "metadata": {},
     "output_type": "execute_result"
    }
   ],
   "source": [
    "# 시작 날짜(2021년 6월 16일 기준)으로 144개씩 데이터 구분 10분 주기 -> 10T\n",
    "date_range = pd.date_range('2021-06-16', periods=len(df_2['time']), freq='10T') \n",
    "\n",
    "# 요일을 리턴\n",
    "day_of_week = date_range.dayofweek\n",
    "\n",
    "# 요일에 기반하여 5 이상인 경우 주말(1), 아닌경우 (0)\n",
    "df_2['weekend'] = (day_of_week >= 5).astype(int) # 1 : 주말 0: 평일\n",
    "df_2['dayofweek'] = day_of_week\n",
    "\n",
    "df_2.head(160)"
   ]
  },
  {
   "cell_type": "code",
   "execution_count": null,
   "metadata": {},
   "outputs": [],
   "source": [
    "# 하루를 10분 단위의 144개로 나누어, 충전 시작 시간에 맞게 할당 (y 구해야 함)\n",
    "def time_calculate(time):\n",
    "    hour, minute = time.split()[1].split(':')\n",
    "    total_minutes = int(hour) * 60 + int(minute)\n",
    "    time_interval = total_minutes // 10 \n",
    "    return time_interval\n",
    "\n",
    "df['time'] = df['start_time'].apply(time_calculate)"
   ]
  }
 ],
 "metadata": {
  "kernelspec": {
   "display_name": "Python 3",
   "language": "python",
   "name": "python3"
  },
  "language_info": {
   "codemirror_mode": {
    "name": "ipython",
    "version": 3
   },
   "file_extension": ".py",
   "mimetype": "text/x-python",
   "name": "python",
   "nbconvert_exporter": "python",
   "pygments_lexer": "ipython3",
   "version": "3.11.1"
  },
  "orig_nbformat": 4
 },
 "nbformat": 4,
 "nbformat_minor": 2
}
