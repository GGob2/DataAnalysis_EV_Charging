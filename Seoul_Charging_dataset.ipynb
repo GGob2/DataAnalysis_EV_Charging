{
 "cells": [
  {
   "attachments": {},
   "cell_type": "markdown",
   "metadata": {},
   "source": [
    "# 서울시 전기차 충전 데이터 이용"
   ]
  },
  {
   "cell_type": "code",
   "execution_count": 2,
   "metadata": {},
   "outputs": [
    {
     "name": "stdout",
     "output_type": "stream",
     "text": [
      "<class 'pandas.core.frame.DataFrame'>\n",
      "RangeIndex: 10972 entries, 0 to 10971\n",
      "Data columns (total 6 columns):\n",
      " #   Column    Non-Null Count  Dtype  \n",
      "---  ------    --------------  -----  \n",
      " 0   순번        10972 non-null  int64  \n",
      " 1   충전소명      10972 non-null  object \n",
      " 2   충전일       10972 non-null  object \n",
      " 3   충전시작시간    10972 non-null  object \n",
      " 4   충전종료시간    10972 non-null  object \n",
      " 5   충전량(kWh)  10972 non-null  float64\n",
      "dtypes: float64(1), int64(1), object(4)\n",
      "memory usage: 514.4+ KB\n",
      "None\n"
     ]
    }
   ],
   "source": [
    "import pandas as pd\n",
    "df = pd.read_csv(r'D:\\charging_data\\charging_data_modify.csv', encoding='cp949')\n",
    "print(df.info())"
   ]
  },
  {
   "cell_type": "code",
   "execution_count": 3,
   "metadata": {},
   "outputs": [
    {
     "data": {
      "text/plain": [
       "충전소명\n",
       "양재솔라스테이션        2783\n",
       "동작구청            1211\n",
       "양천구청             960\n",
       "홍제1동 공용주차장       688\n",
       "어린이대공원 후문주차장     651\n",
       "중랑구청             618\n",
       "성동구청             537\n",
       "남부초 공영주차장        476\n",
       "서대문구청 주차장        449\n",
       "서소문청사(지상 급속)     265\n",
       "망우제2 거주자주차장      265\n",
       "복정역 공영주차장        225\n",
       "송월동차고지(급속)       218\n",
       "송월동차고지(완속)       209\n",
       "마곡중앙광장공영주차장      209\n",
       "개화산역 공영주차장       183\n",
       "서울시 본관청사(완속)     173\n",
       "가산 공영주차장         153\n",
       "남산청사             153\n",
       "서소문청사(지하 급속)     138\n",
       "창동역 공영주차장        111\n",
       "서소문청사(후생동)        87\n",
       "서울시 본관청사(급속)      79\n",
       "서소문청사(완속)         62\n",
       "천호역 공영주차장         62\n",
       "중화1동 공영주차장         7\n",
       "Name: count, dtype: int64"
      ]
     },
     "execution_count": 3,
     "metadata": {},
     "output_type": "execute_result"
    }
   ],
   "source": [
    "# 쓸모없는 열 삭제\n",
    "df = df.drop('순번', axis=1)\n",
    "df = df.drop('충전량(kWh)', axis=1)\n",
    "\n",
    "# 충전소명을 기준으로 데이터 수 확인 \n",
    "df['충전소명'].value_counts()"
   ]
  },
  {
   "cell_type": "code",
   "execution_count": 4,
   "metadata": {},
   "outputs": [
    {
     "name": "stdout",
     "output_type": "stream",
     "text": [
      "117 days 00:00:00\n"
     ]
    }
   ],
   "source": [
    "df['충전일자'] = pd.to_datetime(df['충전일'])\n",
    "df['충전일자'].max() \n",
    "df['충전일자'].min()\n",
    "print(df['충전일자'].max() - df['충전일자'].min()) "
   ]
  },
  {
   "attachments": {},
   "cell_type": "markdown",
   "metadata": {},
   "source": [
    "#### 충전시간 도출"
   ]
  },
  {
   "cell_type": "code",
   "execution_count": 5,
   "metadata": {},
   "outputs": [
    {
     "data": {
      "text/plain": [
       "0        27.0\n",
       "1        40.0\n",
       "2        15.0\n",
       "3        23.0\n",
       "4        40.0\n",
       "         ... \n",
       "10967    29.0\n",
       "10968    53.0\n",
       "10969    42.0\n",
       "10970    53.0\n",
       "10971    33.0\n",
       "Name: 충전시간, Length: 10972, dtype: float64"
      ]
     },
     "execution_count": 5,
     "metadata": {},
     "output_type": "execute_result"
    }
   ],
   "source": [
    "df['충전시작시간'] = pd.to_datetime(df['충전시작시간'])\n",
    "df['충전종료시간'] = pd.to_datetime(df['충전종료시간'])\n",
    "\n",
    "df['충전시간'] = (df['충전종료시간'] - df['충전시작시간']).dt.total_seconds() // 60\n",
    "df['충전시간']\n"
   ]
  },
  {
   "cell_type": "code",
   "execution_count": 6,
   "metadata": {},
   "outputs": [
    {
     "data": {
      "text/plain": [
       "충전소명\n",
       "양재솔라스테이션        2669\n",
       "동작구청            1192\n",
       "양천구청             938\n",
       "홍제1동 공용주차장       663\n",
       "어린이대공원 후문주차장     626\n",
       "중랑구청             593\n",
       "성동구청             527\n",
       "남부초 공영주차장        463\n",
       "서대문구청 주차장        423\n",
       "서소문청사(지상 급속)     256\n",
       "망우제2 거주자주차장      252\n",
       "송월동차고지(급속)       209\n",
       "복정역 공영주차장        207\n",
       "개화산역 공영주차장       175\n",
       "마곡중앙광장공영주차장      148\n",
       "가산 공영주차장         142\n",
       "남산청사             139\n",
       "서울시 본관청사(완속)     134\n",
       "서소문청사(지하 급속)     132\n",
       "송월동차고지(완속)       119\n",
       "창동역 공영주차장        104\n",
       "서울시 본관청사(급속)      70\n",
       "천호역 공영주차장         57\n",
       "서소문청사(완속)         51\n",
       "서소문청사(후생동)        33\n",
       "중화1동 공영주차장         4\n",
       "Name: count, dtype: int64"
      ]
     },
     "execution_count": 6,
     "metadata": {},
     "output_type": "execute_result"
    }
   ],
   "source": [
    "df = df[df['충전시간'] >= 5]\n",
    "df = df[df['충전시간'] <= 180]\n",
    "\n",
    "df['충전소명'].value_counts()"
   ]
  },
  {
   "cell_type": "code",
   "execution_count": 7,
   "metadata": {},
   "outputs": [
    {
     "data": {
      "text/plain": [
       "충전소명\n",
       "양재솔라스테이션        2669\n",
       "동작구청            1192\n",
       "양천구청             938\n",
       "홍제1동 공용주차장       663\n",
       "어린이대공원 후문주차장     626\n",
       "중랑구청             593\n",
       "성동구청             527\n",
       "Name: count, dtype: int64"
      ]
     },
     "execution_count": 7,
     "metadata": {},
     "output_type": "execute_result"
    }
   ],
   "source": [
    "# 충전 세션 500개 이하 삭제\n",
    "filter = df['충전소명'].value_counts()\n",
    "\n",
    "# 충전 세션이 500개 이하인 경우 삭제\n",
    "to_drop = filter[filter <= 500].index\n",
    "\n",
    "# to_drop에 들어있지 않은 loc만 추출\n",
    "df = df[~df['충전소명'].isin(to_drop)]\n",
    "\n",
    "df['충전소명'].value_counts()"
   ]
  },
  {
   "cell_type": "code",
   "execution_count": 8,
   "metadata": {},
   "outputs": [
    {
     "data": {
      "text/plain": [
       "요일\n",
       "4    1192\n",
       "3    1067\n",
       "5    1053\n",
       "2    1013\n",
       "0    1002\n",
       "1     995\n",
       "6     886\n",
       "Name: count, dtype: int64"
      ]
     },
     "execution_count": 8,
     "metadata": {},
     "output_type": "execute_result"
    }
   ],
   "source": [
    "# 요일을 0-월 1-화 ... 6-일 로 맵핑 (datetime 객체 이용)\n",
    "\n",
    "df['요일'] = pd.to_datetime(df['충전시작시간'])\n",
    "\n",
    "df['요일'] = df['충전시작시간'].dt.weekday\n",
    "\n",
    "df['요일'].value_counts()"
   ]
  },
  {
   "attachments": {},
   "cell_type": "markdown",
   "metadata": {},
   "source": [
    "### 아주 간단한 그래프"
   ]
  },
  {
   "cell_type": "code",
   "execution_count": 9,
   "metadata": {},
   "outputs": [
    {
     "data": {
      "image/png": "[encoded data removed]",
      "text/plain": [
       "<Figure size 640x480 with 1 Axes>"
      ]
     },
     "metadata": {},
     "output_type": "display_data"
    }
   ],
   "source": [
    "import matplotlib.pyplot as plt\n",
    "\n",
    "\n",
    "df['요일'].value_counts().plot(kind='bar')\n",
    "\n",
    "plt.title('sessions')\n",
    "plt.xlabel('Day of the Week')\n",
    "plt.ylabel('Count')\n",
    "\n",
    "plt.show()"
   ]
  },
  {
   "cell_type": "code",
   "execution_count": 10,
   "metadata": {},
   "outputs": [
    {
     "data": {
      "text/plain": [
       "주말\n",
       "0    5269\n",
       "1    1939\n",
       "Name: count, dtype: int64"
      ]
     },
     "execution_count": 10,
     "metadata": {},
     "output_type": "execute_result"
    }
   ],
   "source": [
    "# 주말인지 아닌지 여부 데이터 추가\n",
    "\n",
    "def is_weekend(day):\n",
    "    if day in [0,1,2,3,4]: # 0: 월 6: 일\n",
    "        return 0\n",
    "    else:\n",
    "        return 1\n",
    "\n",
    "df['주말'] = df['요일'].apply(is_weekend)\n",
    "df['주말'].value_counts()\n"
   ]
  },
  {
   "attachments": {},
   "cell_type": "markdown",
   "metadata": {},
   "source": [
    "### 충전소 목록\n",
    "\n",
    "양재솔라스테이션        2669\n",
    "</br>\n",
    "동작구청            1192\n",
    "</br>\n",
    "양천구청             938\n",
    "</br>\n",
    "홍제1동 공용주차장       663\n",
    "</br>\n",
    "어린이대공원 후문주차장     626\n",
    "</br>\n",
    "중랑구청             593\n",
    "</br>\n",
    "성동구청             527"
   ]
  },
  {
   "cell_type": "code",
   "execution_count": 11,
   "metadata": {},
   "outputs": [],
   "source": [
    "# dfs = {name: df[df['충전소명'] == name] for name in df['충전소명'].unique()}\n",
    "\n",
    "# for name, df in dfs.items():\n",
    "#     filename = f\"{name}_data_csv\"\n",
    "#     df.to_csv(r'D:\\charging_data\\\\'+filename+'.csv', index=False, encoding=\"utf-8-sig\")"
   ]
  },
  {
   "attachments": {},
   "cell_type": "markdown",
   "metadata": {},
   "source": [
    "새로운 데이터프레임 객체 생성"
   ]
  },
  {
   "cell_type": "code",
   "execution_count": 12,
   "metadata": {},
   "outputs": [
    {
     "name": "stdout",
     "output_type": "stream",
     "text": [
      "<class 'pandas.core.frame.DataFrame'>\n",
      "RangeIndex: 2669 entries, 0 to 2668\n",
      "Data columns (total 8 columns):\n",
      " #   Column  Non-Null Count  Dtype  \n",
      "---  ------  --------------  -----  \n",
      " 0   충전소명    2669 non-null   object \n",
      " 1   충전일     2669 non-null   object \n",
      " 2   충전시작시간  2669 non-null   object \n",
      " 3   충전종료시간  2669 non-null   object \n",
      " 4   충전일자    2669 non-null   object \n",
      " 5   충전시간    2669 non-null   float64\n",
      " 6   요일      2669 non-null   int64  \n",
      " 7   주말      2669 non-null   int64  \n",
      "dtypes: float64(1), int64(2), object(5)\n",
      "memory usage: 166.9+ KB\n"
     ]
    }
   ],
   "source": [
    "df_yg = pd.read_csv(r'D:\\charging_data\\양재솔라스테이션_data_csv.csv', encoding='utf-8-sig')\n",
    "df_yg.info()"
   ]
  },
  {
   "cell_type": "code",
   "execution_count": 13,
   "metadata": {},
   "outputs": [
    {
     "name": "stdout",
     "output_type": "stream",
     "text": [
      "<class 'pandas.core.frame.DataFrame'>\n",
      "RangeIndex: 16848 entries, 0 to 16847\n",
      "Data columns (total 2 columns):\n",
      " #   Column    Non-Null Count  Dtype\n",
      "---  ------    --------------  -----\n",
      " 0   time      16848 non-null  int64\n",
      " 1   charging  16848 non-null  int64\n",
      "dtypes: int64(2)\n",
      "memory usage: 263.4 KB\n"
     ]
    }
   ],
   "source": [
    "df_yg_2 = pd.DataFrame()\n",
    "df_yg_2['time'] = [i for i in range(144)] * 117\n",
    "df_yg_2['charging'] = [0 for i in range(144)] * 117\n",
    "df_yg_2.info()"
   ]
  },
  {
   "attachments": {},
   "cell_type": "markdown",
   "metadata": {},
   "source": [
    "## 충전기 구분 안함.. 다시 해야 함"
   ]
  },
  {
   "cell_type": "code",
   "execution_count": 14,
   "metadata": {},
   "outputs": [
    {
     "data": {
      "text/html": [
       "<div>\n",
       "<style scoped>\n",
       "    .dataframe tbody tr th:only-of-type {\n",
       "        vertical-align: middle;\n",
       "    }\n",
       "\n",
       "    .dataframe tbody tr th {\n",
       "        vertical-align: top;\n",
       "    }\n",
       "\n",
       "    .dataframe thead th {\n",
       "        text-align: right;\n",
       "    }\n",
       "</style>\n",
       "<table border=\"1\" class=\"dataframe\">\n",
       "  <thead>\n",
       "    <tr style=\"text-align: right;\">\n",
       "      <th></th>\n",
       "      <th>time</th>\n",
       "      <th>charging</th>\n",
       "      <th>weekend</th>\n",
       "      <th>dayofweek</th>\n",
       "      <th>date</th>\n",
       "    </tr>\n",
       "  </thead>\n",
       "  <tbody>\n",
       "    <tr>\n",
       "      <th>0</th>\n",
       "      <td>0</td>\n",
       "      <td>0</td>\n",
       "      <td>0</td>\n",
       "      <td>2</td>\n",
       "      <td>2021-06-16</td>\n",
       "    </tr>\n",
       "    <tr>\n",
       "      <th>1</th>\n",
       "      <td>1</td>\n",
       "      <td>0</td>\n",
       "      <td>0</td>\n",
       "      <td>2</td>\n",
       "      <td>2021-06-16</td>\n",
       "    </tr>\n",
       "    <tr>\n",
       "      <th>2</th>\n",
       "      <td>2</td>\n",
       "      <td>0</td>\n",
       "      <td>0</td>\n",
       "      <td>2</td>\n",
       "      <td>2021-06-16</td>\n",
       "    </tr>\n",
       "    <tr>\n",
       "      <th>3</th>\n",
       "      <td>3</td>\n",
       "      <td>0</td>\n",
       "      <td>0</td>\n",
       "      <td>2</td>\n",
       "      <td>2021-06-16</td>\n",
       "    </tr>\n",
       "    <tr>\n",
       "      <th>4</th>\n",
       "      <td>4</td>\n",
       "      <td>0</td>\n",
       "      <td>0</td>\n",
       "      <td>2</td>\n",
       "      <td>2021-06-16</td>\n",
       "    </tr>\n",
       "    <tr>\n",
       "      <th>...</th>\n",
       "      <td>...</td>\n",
       "      <td>...</td>\n",
       "      <td>...</td>\n",
       "      <td>...</td>\n",
       "      <td>...</td>\n",
       "    </tr>\n",
       "    <tr>\n",
       "      <th>145</th>\n",
       "      <td>1</td>\n",
       "      <td>0</td>\n",
       "      <td>0</td>\n",
       "      <td>3</td>\n",
       "      <td>2021-06-17</td>\n",
       "    </tr>\n",
       "    <tr>\n",
       "      <th>146</th>\n",
       "      <td>2</td>\n",
       "      <td>0</td>\n",
       "      <td>0</td>\n",
       "      <td>3</td>\n",
       "      <td>2021-06-17</td>\n",
       "    </tr>\n",
       "    <tr>\n",
       "      <th>147</th>\n",
       "      <td>3</td>\n",
       "      <td>0</td>\n",
       "      <td>0</td>\n",
       "      <td>3</td>\n",
       "      <td>2021-06-17</td>\n",
       "    </tr>\n",
       "    <tr>\n",
       "      <th>148</th>\n",
       "      <td>4</td>\n",
       "      <td>0</td>\n",
       "      <td>0</td>\n",
       "      <td>3</td>\n",
       "      <td>2021-06-17</td>\n",
       "    </tr>\n",
       "    <tr>\n",
       "      <th>149</th>\n",
       "      <td>5</td>\n",
       "      <td>0</td>\n",
       "      <td>0</td>\n",
       "      <td>3</td>\n",
       "      <td>2021-06-17</td>\n",
       "    </tr>\n",
       "  </tbody>\n",
       "</table>\n",
       "<p>150 rows × 5 columns</p>\n",
       "</div>"
      ],
      "text/plain": [
       "     time  charging  weekend  dayofweek        date\n",
       "0       0         0        0          2  2021-06-16\n",
       "1       1         0        0          2  2021-06-16\n",
       "2       2         0        0          2  2021-06-16\n",
       "3       3         0        0          2  2021-06-16\n",
       "4       4         0        0          2  2021-06-16\n",
       "..    ...       ...      ...        ...         ...\n",
       "145     1         0        0          3  2021-06-17\n",
       "146     2         0        0          3  2021-06-17\n",
       "147     3         0        0          3  2021-06-17\n",
       "148     4         0        0          3  2021-06-17\n",
       "149     5         0        0          3  2021-06-17\n",
       "\n",
       "[150 rows x 5 columns]"
      ]
     },
     "execution_count": 14,
     "metadata": {},
     "output_type": "execute_result"
    }
   ],
   "source": [
    "# 시작 날짜(2021년 6월 16일 기준)으로 144개씩 데이터 구분 10분 주기 -> 10T\n",
    "date_range = pd.date_range('2021-06-16', periods=len(df_yg_2['time']), freq='10T') \n",
    "\n",
    "# 요일을 리턴\n",
    "day_of_week = date_range.dayofweek\n",
    "\n",
    "# 요일에 기반하여 5 이상인 경우 주말(1), 아닌경우 (0)\n",
    "df_yg_2['weekend'] = (day_of_week >= 5).astype(int) # 1 : 주말 0: 평일\n",
    "df_yg_2['dayofweek'] = day_of_week\n",
    "df_yg_2['date'] = date_range.date\n",
    "\n",
    "df_yg_2.head(150)\n"
   ]
  },
  {
   "attachments": {},
   "cell_type": "markdown",
   "metadata": {},
   "source": [
    "#### 각 충전기 별 데이터 분리 해야함"
   ]
  },
  {
   "cell_type": "code",
   "execution_count": 15,
   "metadata": {},
   "outputs": [],
   "source": [
    "# 하루를 10분 단위의 144개로 나누어, 충전 시작 시간에 맞게 할당 (y 구해야 함)\n",
    "def time_calculate(time):\n",
    "    time_obj = pd.to_datetime(time)\n",
    "    hour = time_obj.hour\n",
    "    minute = time_obj.minute\n",
    "    \n",
    "    if hour == 0 and minute < 10:\n",
    "        return 0\n",
    "    elif hour == 23 and minute >= 50:\n",
    "        return 143\n",
    "    else:\n",
    "        time_in_minutes = hour * 60 + minute\n",
    "        return int(time_in_minutes / 10)\n",
    "\n",
    "\n",
    "df_yg['charging_start'] = df_yg['충전시작시간'].apply(time_calculate)\n",
    "df_yg['charging_end'] = df_yg['충전종료시간'].apply(time_calculate)\n"
   ]
  },
  {
   "attachments": {},
   "cell_type": "markdown",
   "metadata": {},
   "source": [
    "충전 시작과 충전 종료를 144개로 나눈 것에 맵핑 해놓았기 때문에,\n",
    "\n",
    "if 날짜 일치:\n",
    "</br>\n",
    "    충전 시작 시간 ~ 충전 종료 시간 = 1 할당\n",
    "</br>\n",
    "else:\n",
    "</br>\n",
    "    continue\n",
    "\n",
    "와 같은 식으로 가야 함."
   ]
  },
  {
   "cell_type": "code",
   "execution_count": 22,
   "metadata": {},
   "outputs": [
    {
     "name": "stdout",
     "output_type": "stream",
     "text": [
      "<class 'pandas.core.frame.DataFrame'>\n",
      "RangeIndex: 2669 entries, 0 to 2668\n",
      "Data columns (total 10 columns):\n",
      " #   Column          Non-Null Count  Dtype  \n",
      "---  ------          --------------  -----  \n",
      " 0   충전소명            2669 non-null   object \n",
      " 1   충전일             2669 non-null   object \n",
      " 2   충전시작시간          2669 non-null   object \n",
      " 3   충전종료시간          2669 non-null   object \n",
      " 4   충전일자            2669 non-null   object \n",
      " 5   충전시간            2669 non-null   float64\n",
      " 6   요일              2669 non-null   int64  \n",
      " 7   주말              2669 non-null   int64  \n",
      " 8   charging_start  2669 non-null   int64  \n",
      " 9   charging_end    2669 non-null   int64  \n",
      "dtypes: float64(1), int64(4), object(5)\n",
      "memory usage: 208.6+ KB\n"
     ]
    }
   ],
   "source": [
    "df_yg.info()"
   ]
  },
  {
   "cell_type": "code",
   "execution_count": 27,
   "metadata": {},
   "outputs": [
    {
     "ename": "KeyError",
     "evalue": "nan",
     "output_type": "error",
     "traceback": [
      "\u001b[1;31m---------------------------------------------------------------------------\u001b[0m",
      "\u001b[1;31mKeyError\u001b[0m                                  Traceback (most recent call last)",
      "Cell \u001b[1;32mIn[27], line 16\u001b[0m\n\u001b[0;32m     12\u001b[0m             df_yg_2\u001b[39m.\u001b[39mloc[charging_date_index\u001b[39m+\u001b[39mi, \u001b[39m'\u001b[39m\u001b[39mcharging\u001b[39m\u001b[39m'\u001b[39m] \u001b[39m==\u001b[39m \u001b[39m1\u001b[39m\n\u001b[0;32m     14\u001b[0m     \u001b[39mreturn\u001b[39;00m df\n\u001b[1;32m---> 16\u001b[0m df_yg_2[\u001b[39m'\u001b[39m\u001b[39mcharging\u001b[39m\u001b[39m'\u001b[39m] \u001b[39m=\u001b[39m df_yg\u001b[39m.\u001b[39;49mapply(\u001b[39mlambda\u001b[39;49;00m row: charging_calculate\\\n\u001b[0;32m     17\u001b[0m                                   (row[\u001b[39m'\u001b[39;49m\u001b[39m충전일자\u001b[39;49m\u001b[39m'\u001b[39;49m], row[\u001b[39m'\u001b[39;49m\u001b[39mcharging_start\u001b[39;49m\u001b[39m'\u001b[39;49m], \\\n\u001b[0;32m     18\u001b[0m                                    row[\u001b[39m'\u001b[39;49m\u001b[39mcharging_end\u001b[39;49m\u001b[39m'\u001b[39;49m]), axis\u001b[39m=\u001b[39;49m\u001b[39m1\u001b[39;49m)\n",
      "File \u001b[1;32md:\\python\\Lib\\site-packages\\pandas\\core\\frame.py:9428\u001b[0m, in \u001b[0;36mDataFrame.apply\u001b[1;34m(self, func, axis, raw, result_type, args, **kwargs)\u001b[0m\n\u001b[0;32m   9417\u001b[0m \u001b[39mfrom\u001b[39;00m \u001b[39mpandas\u001b[39;00m\u001b[39m.\u001b[39;00m\u001b[39mcore\u001b[39;00m\u001b[39m.\u001b[39;00m\u001b[39mapply\u001b[39;00m \u001b[39mimport\u001b[39;00m frame_apply\n\u001b[0;32m   9419\u001b[0m op \u001b[39m=\u001b[39m frame_apply(\n\u001b[0;32m   9420\u001b[0m     \u001b[39mself\u001b[39m,\n\u001b[0;32m   9421\u001b[0m     func\u001b[39m=\u001b[39mfunc,\n\u001b[1;32m   (...)\u001b[0m\n\u001b[0;32m   9426\u001b[0m     kwargs\u001b[39m=\u001b[39mkwargs,\n\u001b[0;32m   9427\u001b[0m )\n\u001b[1;32m-> 9428\u001b[0m \u001b[39mreturn\u001b[39;00m op\u001b[39m.\u001b[39;49mapply()\u001b[39m.\u001b[39m__finalize__(\u001b[39mself\u001b[39m, method\u001b[39m=\u001b[39m\u001b[39m\"\u001b[39m\u001b[39mapply\u001b[39m\u001b[39m\"\u001b[39m)\n",
      "File \u001b[1;32md:\\python\\Lib\\site-packages\\pandas\\core\\apply.py:678\u001b[0m, in \u001b[0;36mFrameApply.apply\u001b[1;34m(self)\u001b[0m\n\u001b[0;32m    675\u001b[0m \u001b[39melif\u001b[39;00m \u001b[39mself\u001b[39m\u001b[39m.\u001b[39mraw:\n\u001b[0;32m    676\u001b[0m     \u001b[39mreturn\u001b[39;00m \u001b[39mself\u001b[39m\u001b[39m.\u001b[39mapply_raw()\n\u001b[1;32m--> 678\u001b[0m \u001b[39mreturn\u001b[39;00m \u001b[39mself\u001b[39;49m\u001b[39m.\u001b[39;49mapply_standard()\n",
      "File \u001b[1;32md:\\python\\Lib\\site-packages\\pandas\\core\\apply.py:798\u001b[0m, in \u001b[0;36mFrameApply.apply_standard\u001b[1;34m(self)\u001b[0m\n\u001b[0;32m    797\u001b[0m \u001b[39mdef\u001b[39;00m \u001b[39mapply_standard\u001b[39m(\u001b[39mself\u001b[39m):\n\u001b[1;32m--> 798\u001b[0m     results, res_index \u001b[39m=\u001b[39m \u001b[39mself\u001b[39;49m\u001b[39m.\u001b[39;49mapply_series_generator()\n\u001b[0;32m    800\u001b[0m     \u001b[39m# wrap results\u001b[39;00m\n\u001b[0;32m    801\u001b[0m     \u001b[39mreturn\u001b[39;00m \u001b[39mself\u001b[39m\u001b[39m.\u001b[39mwrap_results(results, res_index)\n",
      "File \u001b[1;32md:\\python\\Lib\\site-packages\\pandas\\core\\apply.py:814\u001b[0m, in \u001b[0;36mFrameApply.apply_series_generator\u001b[1;34m(self)\u001b[0m\n\u001b[0;32m    811\u001b[0m \u001b[39mwith\u001b[39;00m option_context(\u001b[39m\"\u001b[39m\u001b[39mmode.chained_assignment\u001b[39m\u001b[39m\"\u001b[39m, \u001b[39mNone\u001b[39;00m):\n\u001b[0;32m    812\u001b[0m     \u001b[39mfor\u001b[39;00m i, v \u001b[39min\u001b[39;00m \u001b[39menumerate\u001b[39m(series_gen):\n\u001b[0;32m    813\u001b[0m         \u001b[39m# ignore SettingWithCopy here in case the user mutates\u001b[39;00m\n\u001b[1;32m--> 814\u001b[0m         results[i] \u001b[39m=\u001b[39m \u001b[39mself\u001b[39;49m\u001b[39m.\u001b[39;49mf(v)\n\u001b[0;32m    815\u001b[0m         \u001b[39mif\u001b[39;00m \u001b[39misinstance\u001b[39m(results[i], ABCSeries):\n\u001b[0;32m    816\u001b[0m             \u001b[39m# If we have a view on v, we need to make a copy because\u001b[39;00m\n\u001b[0;32m    817\u001b[0m             \u001b[39m#  series_generator will swap out the underlying data\u001b[39;00m\n\u001b[0;32m    818\u001b[0m             results[i] \u001b[39m=\u001b[39m results[i]\u001b[39m.\u001b[39mcopy(deep\u001b[39m=\u001b[39m\u001b[39mFalse\u001b[39;00m)\n",
      "Cell \u001b[1;32mIn[27], line 16\u001b[0m, in \u001b[0;36m<lambda>\u001b[1;34m(row)\u001b[0m\n\u001b[0;32m     12\u001b[0m             df_yg_2\u001b[39m.\u001b[39mloc[charging_date_index\u001b[39m+\u001b[39mi, \u001b[39m'\u001b[39m\u001b[39mcharging\u001b[39m\u001b[39m'\u001b[39m] \u001b[39m==\u001b[39m \u001b[39m1\u001b[39m\n\u001b[0;32m     14\u001b[0m     \u001b[39mreturn\u001b[39;00m df\n\u001b[1;32m---> 16\u001b[0m df_yg_2[\u001b[39m'\u001b[39m\u001b[39mcharging\u001b[39m\u001b[39m'\u001b[39m] \u001b[39m=\u001b[39m df_yg\u001b[39m.\u001b[39mapply(\u001b[39mlambda\u001b[39;00m row: charging_calculate\\\n\u001b[0;32m     17\u001b[0m                                   (row[\u001b[39m'\u001b[39;49m\u001b[39m충전일자\u001b[39;49m\u001b[39m'\u001b[39;49m], row[\u001b[39m'\u001b[39;49m\u001b[39mcharging_start\u001b[39;49m\u001b[39m'\u001b[39;49m], \\\n\u001b[0;32m     18\u001b[0m                                    row[\u001b[39m'\u001b[39;49m\u001b[39mcharging_end\u001b[39;49m\u001b[39m'\u001b[39;49m]), axis\u001b[39m=\u001b[39m\u001b[39m1\u001b[39m)\n",
      "Cell \u001b[1;32mIn[27], line 9\u001b[0m, in \u001b[0;36mcharging_calculate\u001b[1;34m(date, start, end)\u001b[0m\n\u001b[0;32m      6\u001b[0m charging_date_index \u001b[39m=\u001b[39m df_yg_2[df_yg_2[\u001b[39m'\u001b[39m\u001b[39mdate\u001b[39m\u001b[39m'\u001b[39m] \u001b[39m==\u001b[39m charging_date]\u001b[39m.\u001b[39mindex\u001b[39m.\u001b[39mmin()\n\u001b[0;32m      8\u001b[0m \u001b[39mfor\u001b[39;00m i \u001b[39min\u001b[39;00m \u001b[39mrange\u001b[39m(start, end\u001b[39m+\u001b[39m\u001b[39m1\u001b[39m):\n\u001b[1;32m----> 9\u001b[0m     \u001b[39mif\u001b[39;00m df_yg_2\u001b[39m.\u001b[39;49mloc[charging_date_index\u001b[39m+\u001b[39;49mi, \u001b[39m'\u001b[39;49m\u001b[39mcharging\u001b[39;49m\u001b[39m'\u001b[39;49m] \u001b[39m==\u001b[39m \u001b[39m1\u001b[39m:\n\u001b[0;32m     10\u001b[0m         \u001b[39mcontinue\u001b[39;00m\n\u001b[0;32m     11\u001b[0m     \u001b[39melse\u001b[39;00m:\n",
      "File \u001b[1;32md:\\python\\Lib\\site-packages\\pandas\\core\\indexing.py:1096\u001b[0m, in \u001b[0;36m_LocationIndexer.__getitem__\u001b[1;34m(self, key)\u001b[0m\n\u001b[0;32m   1094\u001b[0m     key \u001b[39m=\u001b[39m \u001b[39mtuple\u001b[39m(com\u001b[39m.\u001b[39mapply_if_callable(x, \u001b[39mself\u001b[39m\u001b[39m.\u001b[39mobj) \u001b[39mfor\u001b[39;00m x \u001b[39min\u001b[39;00m key)\n\u001b[0;32m   1095\u001b[0m     \u001b[39mif\u001b[39;00m \u001b[39mself\u001b[39m\u001b[39m.\u001b[39m_is_scalar_access(key):\n\u001b[1;32m-> 1096\u001b[0m         \u001b[39mreturn\u001b[39;00m \u001b[39mself\u001b[39;49m\u001b[39m.\u001b[39;49mobj\u001b[39m.\u001b[39;49m_get_value(\u001b[39m*\u001b[39;49mkey, takeable\u001b[39m=\u001b[39;49m\u001b[39mself\u001b[39;49m\u001b[39m.\u001b[39;49m_takeable)\n\u001b[0;32m   1097\u001b[0m     \u001b[39mreturn\u001b[39;00m \u001b[39mself\u001b[39m\u001b[39m.\u001b[39m_getitem_tuple(key)\n\u001b[0;32m   1098\u001b[0m \u001b[39melse\u001b[39;00m:\n\u001b[0;32m   1099\u001b[0m     \u001b[39m# we by definition only have the 0th axis\u001b[39;00m\n",
      "File \u001b[1;32md:\\python\\Lib\\site-packages\\pandas\\core\\frame.py:3886\u001b[0m, in \u001b[0;36mDataFrame._get_value\u001b[1;34m(self, index, col, takeable)\u001b[0m\n\u001b[0;32m   3880\u001b[0m engine \u001b[39m=\u001b[39m \u001b[39mself\u001b[39m\u001b[39m.\u001b[39mindex\u001b[39m.\u001b[39m_engine\n\u001b[0;32m   3882\u001b[0m \u001b[39mif\u001b[39;00m \u001b[39mnot\u001b[39;00m \u001b[39misinstance\u001b[39m(\u001b[39mself\u001b[39m\u001b[39m.\u001b[39mindex, MultiIndex):\n\u001b[0;32m   3883\u001b[0m     \u001b[39m# CategoricalIndex: Trying to use the engine fastpath may give incorrect\u001b[39;00m\n\u001b[0;32m   3884\u001b[0m     \u001b[39m#  results if our categories are integers that dont match our codes\u001b[39;00m\n\u001b[0;32m   3885\u001b[0m     \u001b[39m# IntervalIndex: IntervalTree has no get_loc\u001b[39;00m\n\u001b[1;32m-> 3886\u001b[0m     row \u001b[39m=\u001b[39m \u001b[39mself\u001b[39;49m\u001b[39m.\u001b[39;49mindex\u001b[39m.\u001b[39;49mget_loc(index)\n\u001b[0;32m   3887\u001b[0m     \u001b[39mreturn\u001b[39;00m series\u001b[39m.\u001b[39m_values[row]\n\u001b[0;32m   3889\u001b[0m \u001b[39m# For MultiIndex going through engine effectively restricts us to\u001b[39;00m\n\u001b[0;32m   3890\u001b[0m \u001b[39m#  same-length tuples; see test_get_set_value_no_partial_indexing\u001b[39;00m\n",
      "File \u001b[1;32md:\\python\\Lib\\site-packages\\pandas\\core\\indexes\\range.py:349\u001b[0m, in \u001b[0;36mRangeIndex.get_loc\u001b[1;34m(self, key)\u001b[0m\n\u001b[0;32m    347\u001b[0m         \u001b[39mraise\u001b[39;00m \u001b[39mKeyError\u001b[39;00m(key) \u001b[39mfrom\u001b[39;00m \u001b[39merr\u001b[39;00m\n\u001b[0;32m    348\u001b[0m \u001b[39mself\u001b[39m\u001b[39m.\u001b[39m_check_indexing_error(key)\n\u001b[1;32m--> 349\u001b[0m \u001b[39mraise\u001b[39;00m \u001b[39mKeyError\u001b[39;00m(key)\n",
      "\u001b[1;31mKeyError\u001b[0m: nan"
     ]
    }
   ],
   "source": [
    "import sys\n",
    "sys.setrecursionlimit(10**7)\n",
    "\n",
    "def charging_calculate(date, start, end, df):\n",
    "    charging_date = pd.to_datetime(date)\n",
    "    charging_date_index = df[df['date'] == charging_date].index.min()\n",
    "\n",
    "    for i in range(start, end+1):\n",
    "        if df.loc[charging_date_index+i, 'charging'] == 1:\n",
    "            continue\n",
    "        else:\n",
    "            df.loc[charging_date_index+i, 'charging'] == 1\n",
    "\n",
    "    return df\n",
    "\n",
    "df_yg_2['charging'] = df_yg.apply(lambda row: charging_calculate\\\n",
    "                                  (row['충전일자'], row['charging_start'], \\\n",
    "                                   row['charging_end'], df_yg_2), axis=1)"
   ]
  }
 ],
 "metadata": {
  "kernelspec": {
   "display_name": "Python 3",
   "language": "python",
   "name": "python3"
  },
  "language_info": {
   "codemirror_mode": {
    "name": "ipython",
    "version": 3
   },
   "file_extension": ".py",
   "mimetype": "text/x-python",
   "name": "python",
   "nbconvert_exporter": "python",
   "pygments_lexer": "ipython3",
   "version": "3.11.1"
  },
  "orig_nbformat": 4
 },
 "nbformat": 4,
 "nbformat_minor": 2
}
