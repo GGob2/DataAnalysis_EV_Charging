{
 "cells": [
  {
   "cell_type": "code",
   "execution_count": 63,
   "metadata": {},
   "outputs": [],
   "source": [
    "import numpy as np\n",
    "import pandas as pd\n"
   ]
  },
  {
   "cell_type": "code",
   "execution_count": 64,
   "metadata": {},
   "outputs": [
    {
     "name": "stdout",
     "output_type": "stream",
     "text": [
      "<class 'pandas.core.frame.DataFrame'>\n",
      "RangeIndex: 605417 entries, 0 to 605416\n",
      "Data columns (total 8 columns):\n",
      " #   Column           Non-Null Count   Dtype  \n",
      "---  ------           --------------   -----  \n",
      " 0   loc              605417 non-null  object \n",
      " 1   id               605417 non-null  int64  \n",
      " 2   charging_value   605417 non-null  float64\n",
      " 3   charging_hour    605417 non-null  int64  \n",
      " 4   charging_minute  605417 non-null  int64  \n",
      " 5   date             605417 non-null  object \n",
      " 6   start_time       605417 non-null  object \n",
      " 7   end_time         605417 non-null  object \n",
      "dtypes: float64(1), int64(3), object(4)\n",
      "memory usage: 37.0+ MB\n",
      "None\n"
     ]
    }
   ],
   "source": [
    "df = pd.read_csv(r'D:\\charging_data\\kor_ev_charging_data_preprocessing.csv')\n",
    "print(df.info())"
   ]
  },
  {
   "cell_type": "code",
   "execution_count": 65,
   "metadata": {},
   "outputs": [
    {
     "data": {
      "text/plain": [
       "loc\n",
       "대전세종충남    63263\n",
       "대구        60295\n",
       "제주        60123\n",
       "광주전남      55369\n",
       "경기        55283\n",
       "인천        44471\n",
       "부산울산      44210\n",
       "남서울       38115\n",
       "서울        37948\n",
       "강원        31937\n",
       "경남        30043\n",
       "경기북부      25431\n",
       "충북        23673\n",
       "전북        22532\n",
       "경북        12724\n",
       "Name: count, dtype: int64"
      ]
     },
     "execution_count": 65,
     "metadata": {},
     "output_type": "execute_result"
    }
   ],
   "source": [
    "df['loc'].value_counts()"
   ]
  },
  {
   "cell_type": "code",
   "execution_count": 66,
   "metadata": {},
   "outputs": [
    {
     "data": {
      "text/plain": [
       "loc\n",
       "대전세종충남    63263\n",
       "대구        60295\n",
       "제주        60123\n",
       "광주전남      55369\n",
       "경기        55283\n",
       "인천        44471\n",
       "부산울산      44210\n",
       "남서울       38115\n",
       "서울        37948\n",
       "강원        31937\n",
       "경남        30043\n",
       "경기북부      25431\n",
       "충북        23673\n",
       "전북        22532\n",
       "경북        12724\n",
       "Name: count, dtype: int64"
      ]
     },
     "execution_count": 66,
     "metadata": {},
     "output_type": "execute_result"
    }
   ],
   "source": [
    "# 이상치 데이터 삭제\n",
    "\n",
    "filter = df['loc'].value_counts()\n",
    "\n",
    "# 10000보다 작은 loc 추출\n",
    "to_drop = filter[filter < 10000].index\n",
    "\n",
    "# to_drop에 들어있지 않은 loc만 추출\n",
    "df = df[~df['loc'].isin(to_drop)]\n",
    "\n",
    "# 환경부 충전 데이터 삭제 (지역 확인 어려움)\n",
    "df = df.drop(df[df['loc'] == '환경부'].index)\n",
    "\n",
    "df['loc'].value_counts()"
   ]
  },
  {
   "cell_type": "code",
   "execution_count": 67,
   "metadata": {},
   "outputs": [
    {
     "data": {
      "text/plain": [
       "charging_hour\n",
       "0    393062\n",
       "1    187219\n",
       "2     25136\n",
       "Name: count, dtype: int64"
      ]
     },
     "execution_count": 67,
     "metadata": {},
     "output_type": "execute_result"
    }
   ],
   "source": [
    "# 충전 시간 (hour) 확인 후 이상치 제거\n",
    "df['charging_hour'].value_counts()"
   ]
  },
  {
   "cell_type": "code",
   "execution_count": 68,
   "metadata": {},
   "outputs": [
    {
     "data": {
      "text/plain": [
       "charging_hour\n",
       "0    393062\n",
       "1    187219\n",
       "2     25136\n",
       "Name: count, dtype: int64"
      ]
     },
     "execution_count": 68,
     "metadata": {},
     "output_type": "execute_result"
    }
   ],
   "source": [
    "# 5시간 이상 충전한 데이터 삭제\n",
    "df = df[df['charging_hour'] <= 2]\n",
    "\n",
    "df['charging_hour'].value_counts()\n",
    "\n",
    "\n"
   ]
  },
  {
   "cell_type": "code",
   "execution_count": 70,
   "metadata": {},
   "outputs": [
    {
     "data": {
      "text/plain": [
       "charging_minute\n",
       "120    14780\n",
       "40      9007\n",
       "36      8575\n",
       "37      8457\n",
       "39      8430\n",
       "       ...  \n",
       "416       58\n",
       "419       58\n",
       "412       56\n",
       "418       52\n",
       "417       52\n",
       "Name: count, Length: 175, dtype: int64"
      ]
     },
     "execution_count": 70,
     "metadata": {},
     "output_type": "execute_result"
    }
   ],
   "source": [
    "df = df[df['charging_minute'] >= 5]\n",
    "\n",
    "df['charging_minute'].value_counts()"
   ]
  },
  {
   "cell_type": "code",
   "execution_count": 71,
   "metadata": {},
   "outputs": [
    {
     "data": {
      "text/plain": [
       "loc\n",
       "대전세종충남    61037\n",
       "대구        57634\n",
       "제주        57553\n",
       "광주전남      53232\n",
       "경기        52928\n",
       "인천        42773\n",
       "부산울산      42401\n",
       "남서울       36679\n",
       "서울        36568\n",
       "강원        30596\n",
       "경남        28518\n",
       "경기북부      24268\n",
       "충북        22846\n",
       "전북        21561\n",
       "경북        12202\n",
       "Name: count, dtype: int64"
      ]
     },
     "execution_count": 71,
     "metadata": {},
     "output_type": "execute_result"
    }
   ],
   "source": [
    "df['loc'].value_counts()"
   ]
  },
  {
   "cell_type": "code",
   "execution_count": 72,
   "metadata": {},
   "outputs": [
    {
     "data": {
      "text/plain": [
       "id\n",
       "9813     2823\n",
       "9812     2578\n",
       "9814     2424\n",
       "8847     2060\n",
       "8848     2018\n",
       "10900    1714\n",
       "8850     1538\n",
       "8849     1479\n",
       "10618    1363\n",
       "10418    1309\n",
       "10394    1279\n",
       "10419    1273\n",
       "8043     1223\n",
       "10959    1156\n",
       "10420    1145\n",
       "10901    1103\n",
       "10955    1082\n",
       "628      1082\n",
       "631      1065\n",
       "10958    1007\n",
       "629       995\n",
       "11        989\n",
       "630       987\n",
       "10417     943\n",
       "632       912\n",
       "Name: count, dtype: int64"
      ]
     },
     "execution_count": 72,
     "metadata": {},
     "output_type": "execute_result"
    }
   ],
   "source": [
    "# 3개월 동안 900 번의 충전 세션이 없는 데이터 삭제 (이상치로 간주, 하루 약 3번 충전)\n",
    "\n",
    "counts = df['id'].value_counts()\n",
    "\n",
    "id_keep = counts[counts > 900].index\n",
    "\n",
    "df = df[df['id'].isin(id_keep)]\n",
    "\n",
    "df['id'].value_counts()\n",
    "\n"
   ]
  },
  {
   "cell_type": "code",
   "execution_count": 73,
   "metadata": {},
   "outputs": [
    {
     "data": {
      "text/plain": [
       "loc\n",
       "광주전남      14351\n",
       "대전세종충남    10642\n",
       "제주         5041\n",
       "경기         4234\n",
       "전북         1279\n",
       "Name: count, dtype: int64"
      ]
     },
     "execution_count": 73,
     "metadata": {},
     "output_type": "execute_result"
    }
   ],
   "source": [
    "df['loc'].value_counts()"
   ]
  },
  {
   "cell_type": "code",
   "execution_count": 74,
   "metadata": {},
   "outputs": [
    {
     "data": {
      "text/plain": [
       "date\n",
       "1    5384\n",
       "0    5382\n",
       "3    5195\n",
       "4    5151\n",
       "2    4978\n",
       "5    4850\n",
       "6    4607\n",
       "Name: count, dtype: int64"
      ]
     },
     "execution_count": 74,
     "metadata": {},
     "output_type": "execute_result"
    }
   ],
   "source": [
    "# 요일을 0-월 1-화 ... 6-일 로 맵핑 (datetime 객체 이용)\n",
    "\n",
    "df['date'] = pd.to_datetime(df['date'])\n",
    "\n",
    "df['date'] = df['date'].dt.weekday\n",
    "\n",
    "df['date'].value_counts()"
   ]
  },
  {
   "cell_type": "code",
   "execution_count": 75,
   "metadata": {},
   "outputs": [],
   "source": [
    "# 쓸모없는 열 삭제\n",
    "df = df.drop('charging_value', axis=1)\n"
   ]
  }
 ],
 "metadata": {
  "kernelspec": {
   "display_name": "Python 3",
   "language": "python",
   "name": "python3"
  },
  "language_info": {
   "codemirror_mode": {
    "name": "ipython",
    "version": 3
   },
   "file_extension": ".py",
   "mimetype": "text/x-python",
   "name": "python",
   "nbconvert_exporter": "python",
   "pygments_lexer": "ipython3",
   "version": "3.11.1"
  },
  "orig_nbformat": 4
 },
 "nbformat": 4,
 "nbformat_minor": 2
}
